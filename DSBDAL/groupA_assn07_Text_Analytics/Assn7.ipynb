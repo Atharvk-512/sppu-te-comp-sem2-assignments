{
 "cells": [
  {
   "cell_type": "markdown",
   "id": "46683f87",
   "metadata": {},
   "source": [
    "# Text Analytics\n",
    "1. Extract Sample document and apply following document preprocessing\n",
    "methods: Tokenization, POS Tagging, stop words removal, Stemming and\n",
    "Lemmatization.\n",
    "2. Create representation of document by calculating Term Frequency and Inverse\n",
    "Document Frequency."
   ]
  },
  {
   "cell_type": "code",
   "execution_count": 1,
   "id": "0c7c57f2",
   "metadata": {},
   "outputs": [],
   "source": [
    "# Downloads required\n",
    "\n",
    "# for tokenization\n",
    "# nltk.download('punkt')\n",
    "\n",
    "# for POS(Parts of speech) tagging\n",
    "# nltk.download('averaged_perceptron_tagger')\n",
    "\n",
    "# for stop words\n",
    "# nltk.download('stopwords')\n",
    "\n",
    "# for lemmatization\n",
    "# nltk.download('wordnet')"
   ]
  },
  {
   "cell_type": "code",
   "execution_count": null,
   "id": "201f543d",
   "metadata": {},
   "outputs": [],
   "source": []
  },
  {
   "cell_type": "code",
   "execution_count": 2,
   "id": "248000cb",
   "metadata": {},
   "outputs": [],
   "source": [
    "import nltk\n",
    "from nltk.tokenize import word_tokenize\n",
    "from nltk import pos_tag\n",
    "from nltk.stem import PorterStemmer\n",
    "from nltk.corpus import stopwords \n",
    "from nltk.stem import WordNetLemmatizer"
   ]
  },
  {
   "cell_type": "code",
   "execution_count": null,
   "id": "7240007b",
   "metadata": {},
   "outputs": [],
   "source": []
  },
  {
   "cell_type": "code",
   "execution_count": 3,
   "id": "87a572a3",
   "metadata": {},
   "outputs": [],
   "source": [
    "x = open(\"testdoc.txt\").read()"
   ]
  },
  {
   "cell_type": "code",
   "execution_count": 4,
   "id": "4a480aa3",
   "metadata": {},
   "outputs": [
    {
     "data": {
      "text/plain": [
       "'Millions of people in India took part in an annual tree planting drive Sunday. More than 250 million saplings were planted in a single day across the country\\'s most-populous state.\\nThe campaign was led by Uttar Pradesh state government officials, lawmakers, and activists, in a bid to reduce carbon emissions and combat climate change.\\nWhere were the trees planted?\\nThe saplings were planted by volunteers in forests, farms, schools, and along riverbanks and highways.\\n\"We are committed to increasing the forest cover of Uttar Pradesh to over 15% of the total land area in the next five years,\\'\\' said state forest official Manoj Singh.\\nAccording to another government official, the forest cover of the state has increased over the last few years.\\n\"There has been an increase of 127 sqare kilometers [79 sqare miles]Â\\xa0in the forest cover in Uttar Pradesh as compared to 2017,\" a state government spokesperson was quoted as saying inÂ\\xa0The Indian Express newspaper.\\n\"There has also been an increase in trees and plants. The tree cover has increased to 3.05%, as compared to the national average of 2.89%,\" the official said, citing the 2019 Forest Survey of India report.\\nHow many saplings survive?\\nUttar Pradesh State Forest Minister Dara Singh said the long-term survival of the saplings remains a concern, adding that usually only 60% of the saplings survive. The rest succumb to disease or lack of water.\\nHowever, he said thatÂ\\xa0about 80% of the saplings planted in the last four annual drives have survived.\\n\"All the regions where plantation is being carried out have been geo-tagged so that we can ascertain what exactly happened,\" Chauhan told The Pioneer newspaper.\\n\"These saplings carry QR codes so that officials can maintain a record and verify whether the saplings survived or not. Besides, teams have been formed to monitor progress of the plantation drive,\" he said.\\nWhat is the extent of India\\'s trMillions of people in India took part in an annual tree planting drive Sunday. More than 250 million saplings were planted in a single day across the country\\'s most-populous state.\\nThe campaign was led by Uttar Pradesh state government officials, lawmakers, and activists, in a bid to reduce carbon emissions and combat climate change.\\nWhere were the trees planted?\\nThe saplings were planted by volunteers in forests, farms, schools, and along riverbanks and highways.\\n\"We are committed to increasing the forest cover of Uttar Pradesh to over 15% of the total land area in the next five years,\\'\\' said state forest official Manoj Singh.\\nAccording to another government official, the forest cover of the state has increased over the last few years.\\n\"There has been an increase of 127 sqare kilometers [79 sqare miles]Â\\xa0in the forest cover in Uttar Pradesh as compared to 2017,\" a state government spokesperson was quoted as saying inÂ\\xa0The Indian Express newspaper.\\n\"There has also been an increase in trees and plants. The tree cover has increased to 3.05%, as compared to the national average of 2.89%,\" the official said, citing the 2019 Forest Survey of India report.\\nHow many saplings survive?ee planting project?\\nIndia has vowed to have a third of its total land area, or 95 million hectares, under forest and tree cover by 2030.\\nThe government has allocated $6.2 billion (â‚¬5.2 billion) for the tree-planting across the country.\\nHowever, industrial development and a rapidly growing population has put further stress on the land.\\n\\n'"
      ]
     },
     "execution_count": 4,
     "metadata": {},
     "output_type": "execute_result"
    }
   ],
   "source": [
    "x"
   ]
  },
  {
   "cell_type": "code",
   "execution_count": null,
   "id": "16294aad",
   "metadata": {},
   "outputs": [],
   "source": []
  },
  {
   "cell_type": "markdown",
   "id": "c15bf266",
   "metadata": {},
   "source": [
    "# Tokenization"
   ]
  },
  {
   "cell_type": "code",
   "execution_count": 5,
   "id": "655af749",
   "metadata": {},
   "outputs": [
    {
     "name": "stdout",
     "output_type": "stream",
     "text": [
      "['Millions', 'of', 'people', 'in', 'India', 'took', 'part', 'in', 'an', 'annual', 'tree', 'planting', 'drive', 'Sunday', '.', 'More', 'than', '250', 'million', 'saplings', 'were', 'planted', 'in', 'a', 'single', 'day', 'across', 'the', 'country', \"'s\", 'most-populous', 'state', '.', 'The', 'campaign', 'was', 'led', 'by', 'Uttar', 'Pradesh', 'state', 'government', 'officials', ',', 'lawmakers', ',', 'and', 'activists', ',', 'in', 'a', 'bid', 'to', 'reduce', 'carbon', 'emissions', 'and', 'combat', 'climate', 'change', '.', 'Where', 'were', 'the', 'trees', 'planted', '?', 'The', 'saplings', 'were', 'planted', 'by', 'volunteers', 'in', 'forests', ',', 'farms', ',', 'schools', ',', 'and', 'along', 'riverbanks', 'and', 'highways', '.', '``', 'We', 'are', 'committed', 'to', 'increasing', 'the', 'forest', 'cover', 'of', 'Uttar', 'Pradesh', 'to', 'over', '15', '%', 'of', 'the', 'total', 'land', 'area', 'in', 'the', 'next', 'five', 'years', ',', \"''\", 'said', 'state', 'forest', 'official', 'Manoj', 'Singh', '.', 'According', 'to', 'another', 'government', 'official', ',', 'the', 'forest', 'cover', 'of', 'the', 'state', 'has', 'increased', 'over', 'the', 'last', 'few', 'years', '.', '``', 'There', 'has', 'been', 'an', 'increase', 'of', '127', 'sqare', 'kilometers', '[', '79', 'sqare', 'miles', ']', 'Â', 'in', 'the', 'forest', 'cover', 'in', 'Uttar', 'Pradesh', 'as', 'compared', 'to', '2017', ',', \"''\", 'a', 'state', 'government', 'spokesperson', 'was', 'quoted', 'as', 'saying', 'inÂ', 'The', 'Indian', 'Express', 'newspaper', '.', '``', 'There', 'has', 'also', 'been', 'an', 'increase', 'in', 'trees', 'and', 'plants', '.', 'The', 'tree', 'cover', 'has', 'increased', 'to', '3.05', '%', ',', 'as', 'compared', 'to', 'the', 'national', 'average', 'of', '2.89', '%', ',', \"''\", 'the', 'official', 'said', ',', 'citing', 'the', '2019', 'Forest', 'Survey', 'of', 'India', 'report', '.', 'How', 'many', 'saplings', 'survive', '?', 'Uttar', 'Pradesh', 'State', 'Forest', 'Minister', 'Dara', 'Singh', 'said', 'the', 'long-term', 'survival', 'of', 'the', 'saplings', 'remains', 'a', 'concern', ',', 'adding', 'that', 'usually', 'only', '60', '%', 'of', 'the', 'saplings', 'survive', '.', 'The', 'rest', 'succumb', 'to', 'disease', 'or', 'lack', 'of', 'water', '.', 'However', ',', 'he', 'said', 'thatÂ', 'about', '80', '%', 'of', 'the', 'saplings', 'planted', 'in', 'the', 'last', 'four', 'annual', 'drives', 'have', 'survived', '.', '``', 'All', 'the', 'regions', 'where', 'plantation', 'is', 'being', 'carried', 'out', 'have', 'been', 'geo-tagged', 'so', 'that', 'we', 'can', 'ascertain', 'what', 'exactly', 'happened', ',', \"''\", 'Chauhan', 'told', 'The', 'Pioneer', 'newspaper', '.', '``', 'These', 'saplings', 'carry', 'QR', 'codes', 'so', 'that', 'officials', 'can', 'maintain', 'a', 'record', 'and', 'verify', 'whether', 'the', 'saplings', 'survived', 'or', 'not', '.', 'Besides', ',', 'teams', 'have', 'been', 'formed', 'to', 'monitor', 'progress', 'of', 'the', 'plantation', 'drive', ',', \"''\", 'he', 'said', '.', 'What', 'is', 'the', 'extent', 'of', 'India', \"'s\", 'trMillions', 'of', 'people', 'in', 'India', 'took', 'part', 'in', 'an', 'annual', 'tree', 'planting', 'drive', 'Sunday', '.', 'More', 'than', '250', 'million', 'saplings', 'were', 'planted', 'in', 'a', 'single', 'day', 'across', 'the', 'country', \"'s\", 'most-populous', 'state', '.', 'The', 'campaign', 'was', 'led', 'by', 'Uttar', 'Pradesh', 'state', 'government', 'officials', ',', 'lawmakers', ',', 'and', 'activists', ',', 'in', 'a', 'bid', 'to', 'reduce', 'carbon', 'emissions', 'and', 'combat', 'climate', 'change', '.', 'Where', 'were', 'the', 'trees', 'planted', '?', 'The', 'saplings', 'were', 'planted', 'by', 'volunteers', 'in', 'forests', ',', 'farms', ',', 'schools', ',', 'and', 'along', 'riverbanks', 'and', 'highways', '.', '``', 'We', 'are', 'committed', 'to', 'increasing', 'the', 'forest', 'cover', 'of', 'Uttar', 'Pradesh', 'to', 'over', '15', '%', 'of', 'the', 'total', 'land', 'area', 'in', 'the', 'next', 'five', 'years', ',', \"''\", 'said', 'state', 'forest', 'official', 'Manoj', 'Singh', '.', 'According', 'to', 'another', 'government', 'official', ',', 'the', 'forest', 'cover', 'of', 'the', 'state', 'has', 'increased', 'over', 'the', 'last', 'few', 'years', '.', '``', 'There', 'has', 'been', 'an', 'increase', 'of', '127', 'sqare', 'kilometers', '[', '79', 'sqare', 'miles', ']', 'Â', 'in', 'the', 'forest', 'cover', 'in', 'Uttar', 'Pradesh', 'as', 'compared', 'to', '2017', ',', \"''\", 'a', 'state', 'government', 'spokesperson', 'was', 'quoted', 'as', 'saying', 'inÂ', 'The', 'Indian', 'Express', 'newspaper', '.', '``', 'There', 'has', 'also', 'been', 'an', 'increase', 'in', 'trees', 'and', 'plants', '.', 'The', 'tree', 'cover', 'has', 'increased', 'to', '3.05', '%', ',', 'as', 'compared', 'to', 'the', 'national', 'average', 'of', '2.89', '%', ',', \"''\", 'the', 'official', 'said', ',', 'citing', 'the', '2019', 'Forest', 'Survey', 'of', 'India', 'report', '.', 'How', 'many', 'saplings', 'survive', '?', 'ee', 'planting', 'project', '?', 'India', 'has', 'vowed', 'to', 'have', 'a', 'third', 'of', 'its', 'total', 'land', 'area', ',', 'or', '95', 'million', 'hectares', ',', 'under', 'forest', 'and', 'tree', 'cover', 'by', '2030', '.', 'The', 'government', 'has', 'allocated', '$', '6.2', 'billion', '(', 'â‚¬5.2', 'billion', ')', 'for', 'the', 'tree-planting', 'across', 'the', 'country', '.', 'However', ',', 'industrial', 'development', 'and', 'a', 'rapidly', 'growing', 'population', 'has', 'put', 'further', 'stress', 'on', 'the', 'land', '.']\n"
     ]
    }
   ],
   "source": [
    "tokens = word_tokenize(x)\n",
    "print(tokens)"
   ]
  },
  {
   "cell_type": "code",
   "execution_count": null,
   "id": "c4590f55",
   "metadata": {},
   "outputs": [],
   "source": []
  },
  {
   "cell_type": "markdown",
   "id": "ebc0c5bc",
   "metadata": {},
   "source": [
    "# POS Tagging"
   ]
  },
  {
   "cell_type": "code",
   "execution_count": 6,
   "id": "a2550c9e",
   "metadata": {},
   "outputs": [
    {
     "name": "stdout",
     "output_type": "stream",
     "text": [
      "[('Millions', 'NNS'), ('of', 'IN'), ('people', 'NNS'), ('in', 'IN'), ('India', 'NNP'), ('took', 'VBD'), ('part', 'NN'), ('in', 'IN'), ('an', 'DT'), ('annual', 'JJ'), ('tree', 'NN'), ('planting', 'VBG'), ('drive', 'JJ'), ('Sunday', 'NNP'), ('.', '.'), ('More', 'JJR'), ('than', 'IN'), ('250', 'CD'), ('million', 'CD'), ('saplings', 'NNS'), ('were', 'VBD'), ('planted', 'VBN'), ('in', 'IN'), ('a', 'DT'), ('single', 'JJ'), ('day', 'NN'), ('across', 'IN'), ('the', 'DT'), ('country', 'NN'), (\"'s\", 'POS'), ('most-populous', 'JJ'), ('state', 'NN'), ('.', '.'), ('The', 'DT'), ('campaign', 'NN'), ('was', 'VBD'), ('led', 'VBN'), ('by', 'IN'), ('Uttar', 'NNP'), ('Pradesh', 'NNP'), ('state', 'NN'), ('government', 'NN'), ('officials', 'NNS'), (',', ','), ('lawmakers', 'NNS'), (',', ','), ('and', 'CC'), ('activists', 'NNS'), (',', ','), ('in', 'IN'), ('a', 'DT'), ('bid', 'NN'), ('to', 'TO'), ('reduce', 'VB'), ('carbon', 'NN'), ('emissions', 'NNS'), ('and', 'CC'), ('combat', 'NN'), ('climate', 'NN'), ('change', 'NN'), ('.', '.'), ('Where', 'WRB'), ('were', 'VBD'), ('the', 'DT'), ('trees', 'NNS'), ('planted', 'VBN'), ('?', '.'), ('The', 'DT'), ('saplings', 'NNS'), ('were', 'VBD'), ('planted', 'VBN'), ('by', 'IN'), ('volunteers', 'NNS'), ('in', 'IN'), ('forests', 'NNS'), (',', ','), ('farms', 'NNS'), (',', ','), ('schools', 'NNS'), (',', ','), ('and', 'CC'), ('along', 'IN'), ('riverbanks', 'NNS'), ('and', 'CC'), ('highways', 'NNS'), ('.', '.'), ('``', '``'), ('We', 'PRP'), ('are', 'VBP'), ('committed', 'VBN'), ('to', 'TO'), ('increasing', 'VBG'), ('the', 'DT'), ('forest', 'JJS'), ('cover', 'NN'), ('of', 'IN'), ('Uttar', 'NNP'), ('Pradesh', 'NNP'), ('to', 'TO'), ('over', 'VB'), ('15', 'CD'), ('%', 'NN'), ('of', 'IN'), ('the', 'DT'), ('total', 'JJ'), ('land', 'NN'), ('area', 'NN'), ('in', 'IN'), ('the', 'DT'), ('next', 'JJ'), ('five', 'CD'), ('years', 'NNS'), (',', ','), (\"''\", \"''\"), ('said', 'VBD'), ('state', 'NN'), ('forest', 'JJS'), ('official', 'NN'), ('Manoj', 'NNP'), ('Singh', 'NNP'), ('.', '.'), ('According', 'VBG'), ('to', 'TO'), ('another', 'DT'), ('government', 'NN'), ('official', 'NN'), (',', ','), ('the', 'DT'), ('forest', 'JJS'), ('cover', 'NN'), ('of', 'IN'), ('the', 'DT'), ('state', 'NN'), ('has', 'VBZ'), ('increased', 'VBN'), ('over', 'IN'), ('the', 'DT'), ('last', 'JJ'), ('few', 'JJ'), ('years', 'NNS'), ('.', '.'), ('``', '``'), ('There', 'EX'), ('has', 'VBZ'), ('been', 'VBN'), ('an', 'DT'), ('increase', 'NN'), ('of', 'IN'), ('127', 'CD'), ('sqare', 'NN'), ('kilometers', 'NNS'), ('[', 'VBP'), ('79', 'CD'), ('sqare', 'NN'), ('miles', 'NNS'), (']', 'VBP'), ('Â', 'NN'), ('in', 'IN'), ('the', 'DT'), ('forest', 'JJS'), ('cover', 'NN'), ('in', 'IN'), ('Uttar', 'NNP'), ('Pradesh', 'NNP'), ('as', 'IN'), ('compared', 'VBN'), ('to', 'TO'), ('2017', 'CD'), (',', ','), (\"''\", \"''\"), ('a', 'DT'), ('state', 'NN'), ('government', 'NN'), ('spokesperson', 'NN'), ('was', 'VBD'), ('quoted', 'VBN'), ('as', 'IN'), ('saying', 'VBG'), ('inÂ', 'IN'), ('The', 'DT'), ('Indian', 'NNP'), ('Express', 'NNP'), ('newspaper', 'NN'), ('.', '.'), ('``', '``'), ('There', 'EX'), ('has', 'VBZ'), ('also', 'RB'), ('been', 'VBN'), ('an', 'DT'), ('increase', 'NN'), ('in', 'IN'), ('trees', 'NNS'), ('and', 'CC'), ('plants', 'NNS'), ('.', '.'), ('The', 'DT'), ('tree', 'NN'), ('cover', 'NN'), ('has', 'VBZ'), ('increased', 'VBN'), ('to', 'TO'), ('3.05', 'CD'), ('%', 'NN'), (',', ','), ('as', 'IN'), ('compared', 'VBN'), ('to', 'TO'), ('the', 'DT'), ('national', 'JJ'), ('average', 'NN'), ('of', 'IN'), ('2.89', 'CD'), ('%', 'NN'), (',', ','), (\"''\", \"''\"), ('the', 'DT'), ('official', 'NN'), ('said', 'VBD'), (',', ','), ('citing', 'VBG'), ('the', 'DT'), ('2019', 'CD'), ('Forest', 'NNP'), ('Survey', 'NNP'), ('of', 'IN'), ('India', 'NNP'), ('report', 'NN'), ('.', '.'), ('How', 'WRB'), ('many', 'JJ'), ('saplings', 'NNS'), ('survive', 'VBP'), ('?', '.'), ('Uttar', 'NNP'), ('Pradesh', 'NNP'), ('State', 'NNP'), ('Forest', 'NNP'), ('Minister', 'NNP'), ('Dara', 'NNP'), ('Singh', 'NNP'), ('said', 'VBD'), ('the', 'DT'), ('long-term', 'JJ'), ('survival', 'NN'), ('of', 'IN'), ('the', 'DT'), ('saplings', 'NNS'), ('remains', 'VBZ'), ('a', 'DT'), ('concern', 'NN'), (',', ','), ('adding', 'VBG'), ('that', 'IN'), ('usually', 'RB'), ('only', 'RB'), ('60', 'CD'), ('%', 'NN'), ('of', 'IN'), ('the', 'DT'), ('saplings', 'NNS'), ('survive', 'VBP'), ('.', '.'), ('The', 'DT'), ('rest', 'NN'), ('succumb', 'NN'), ('to', 'TO'), ('disease', 'VB'), ('or', 'CC'), ('lack', 'VB'), ('of', 'IN'), ('water', 'NN'), ('.', '.'), ('However', 'RB'), (',', ','), ('he', 'PRP'), ('said', 'VBD'), ('thatÂ', 'NN'), ('about', 'IN'), ('80', 'CD'), ('%', 'NN'), ('of', 'IN'), ('the', 'DT'), ('saplings', 'NNS'), ('planted', 'VBN'), ('in', 'IN'), ('the', 'DT'), ('last', 'JJ'), ('four', 'CD'), ('annual', 'JJ'), ('drives', 'NNS'), ('have', 'VBP'), ('survived', 'VBN'), ('.', '.'), ('``', '``'), ('All', 'PDT'), ('the', 'DT'), ('regions', 'NNS'), ('where', 'WRB'), ('plantation', 'NN'), ('is', 'VBZ'), ('being', 'VBG'), ('carried', 'VBN'), ('out', 'RP'), ('have', 'VBP'), ('been', 'VBN'), ('geo-tagged', 'VBN'), ('so', 'RB'), ('that', 'IN'), ('we', 'PRP'), ('can', 'MD'), ('ascertain', 'VB'), ('what', 'WP'), ('exactly', 'RB'), ('happened', 'VBD'), (',', ','), (\"''\", \"''\"), ('Chauhan', 'NNP'), ('told', 'VBD'), ('The', 'DT'), ('Pioneer', 'NNP'), ('newspaper', 'NN'), ('.', '.'), ('``', '``'), ('These', 'DT'), ('saplings', 'NNS'), ('carry', 'VBP'), ('QR', 'NNP'), ('codes', 'NNS'), ('so', 'RB'), ('that', 'IN'), ('officials', 'NNS'), ('can', 'MD'), ('maintain', 'VB'), ('a', 'DT'), ('record', 'NN'), ('and', 'CC'), ('verify', 'VB'), ('whether', 'IN'), ('the', 'DT'), ('saplings', 'NNS'), ('survived', 'VBD'), ('or', 'CC'), ('not', 'RB'), ('.', '.'), ('Besides', 'IN'), (',', ','), ('teams', 'NNS'), ('have', 'VBP'), ('been', 'VBN'), ('formed', 'VBN'), ('to', 'TO'), ('monitor', 'VB'), ('progress', 'NN'), ('of', 'IN'), ('the', 'DT'), ('plantation', 'NN'), ('drive', 'NN'), (',', ','), (\"''\", \"''\"), ('he', 'PRP'), ('said', 'VBD'), ('.', '.'), ('What', 'WP'), ('is', 'VBZ'), ('the', 'DT'), ('extent', 'NN'), ('of', 'IN'), ('India', 'NNP'), (\"'s\", 'POS'), ('trMillions', 'NNS'), ('of', 'IN'), ('people', 'NNS'), ('in', 'IN'), ('India', 'NNP'), ('took', 'VBD'), ('part', 'NN'), ('in', 'IN'), ('an', 'DT'), ('annual', 'JJ'), ('tree', 'NN'), ('planting', 'VBG'), ('drive', 'JJ'), ('Sunday', 'NNP'), ('.', '.'), ('More', 'JJR'), ('than', 'IN'), ('250', 'CD'), ('million', 'CD'), ('saplings', 'NNS'), ('were', 'VBD'), ('planted', 'VBN'), ('in', 'IN'), ('a', 'DT'), ('single', 'JJ'), ('day', 'NN'), ('across', 'IN'), ('the', 'DT'), ('country', 'NN'), (\"'s\", 'POS'), ('most-populous', 'JJ'), ('state', 'NN'), ('.', '.'), ('The', 'DT'), ('campaign', 'NN'), ('was', 'VBD'), ('led', 'VBN'), ('by', 'IN'), ('Uttar', 'NNP'), ('Pradesh', 'NNP'), ('state', 'NN'), ('government', 'NN'), ('officials', 'NNS'), (',', ','), ('lawmakers', 'NNS'), (',', ','), ('and', 'CC'), ('activists', 'NNS'), (',', ','), ('in', 'IN'), ('a', 'DT'), ('bid', 'NN'), ('to', 'TO'), ('reduce', 'VB'), ('carbon', 'NN'), ('emissions', 'NNS'), ('and', 'CC'), ('combat', 'NN'), ('climate', 'NN'), ('change', 'NN'), ('.', '.'), ('Where', 'WRB'), ('were', 'VBD'), ('the', 'DT'), ('trees', 'NNS'), ('planted', 'VBN'), ('?', '.'), ('The', 'DT'), ('saplings', 'NNS'), ('were', 'VBD'), ('planted', 'VBN'), ('by', 'IN'), ('volunteers', 'NNS'), ('in', 'IN'), ('forests', 'NNS'), (',', ','), ('farms', 'NNS'), (',', ','), ('schools', 'NNS'), (',', ','), ('and', 'CC'), ('along', 'IN'), ('riverbanks', 'NNS'), ('and', 'CC'), ('highways', 'NNS'), ('.', '.'), ('``', '``'), ('We', 'PRP'), ('are', 'VBP'), ('committed', 'VBN'), ('to', 'TO'), ('increasing', 'VBG'), ('the', 'DT'), ('forest', 'JJS'), ('cover', 'NN'), ('of', 'IN'), ('Uttar', 'NNP'), ('Pradesh', 'NNP'), ('to', 'TO'), ('over', 'VB'), ('15', 'CD'), ('%', 'NN'), ('of', 'IN'), ('the', 'DT'), ('total', 'JJ'), ('land', 'NN'), ('area', 'NN'), ('in', 'IN'), ('the', 'DT'), ('next', 'JJ'), ('five', 'CD'), ('years', 'NNS'), (',', ','), (\"''\", \"''\"), ('said', 'VBD'), ('state', 'NN'), ('forest', 'JJS'), ('official', 'NN'), ('Manoj', 'NNP'), ('Singh', 'NNP'), ('.', '.'), ('According', 'VBG'), ('to', 'TO'), ('another', 'DT'), ('government', 'NN'), ('official', 'NN'), (',', ','), ('the', 'DT'), ('forest', 'JJS'), ('cover', 'NN'), ('of', 'IN'), ('the', 'DT'), ('state', 'NN'), ('has', 'VBZ'), ('increased', 'VBN'), ('over', 'IN'), ('the', 'DT'), ('last', 'JJ'), ('few', 'JJ'), ('years', 'NNS'), ('.', '.'), ('``', '``'), ('There', 'EX'), ('has', 'VBZ'), ('been', 'VBN'), ('an', 'DT'), ('increase', 'NN'), ('of', 'IN'), ('127', 'CD'), ('sqare', 'NN'), ('kilometers', 'NNS'), ('[', 'VBP'), ('79', 'CD'), ('sqare', 'NN'), ('miles', 'NNS'), (']', 'VBP'), ('Â', 'NN'), ('in', 'IN'), ('the', 'DT'), ('forest', 'JJS'), ('cover', 'NN'), ('in', 'IN'), ('Uttar', 'NNP'), ('Pradesh', 'NNP'), ('as', 'IN'), ('compared', 'VBN'), ('to', 'TO'), ('2017', 'CD'), (',', ','), (\"''\", \"''\"), ('a', 'DT'), ('state', 'NN'), ('government', 'NN'), ('spokesperson', 'NN'), ('was', 'VBD'), ('quoted', 'VBN'), ('as', 'IN'), ('saying', 'VBG'), ('inÂ', 'IN'), ('The', 'DT'), ('Indian', 'NNP'), ('Express', 'NNP'), ('newspaper', 'NN'), ('.', '.'), ('``', '``'), ('There', 'EX'), ('has', 'VBZ'), ('also', 'RB'), ('been', 'VBN'), ('an', 'DT'), ('increase', 'NN'), ('in', 'IN'), ('trees', 'NNS'), ('and', 'CC'), ('plants', 'NNS'), ('.', '.'), ('The', 'DT'), ('tree', 'NN'), ('cover', 'NN'), ('has', 'VBZ'), ('increased', 'VBN'), ('to', 'TO'), ('3.05', 'CD'), ('%', 'NN'), (',', ','), ('as', 'IN'), ('compared', 'VBN'), ('to', 'TO'), ('the', 'DT'), ('national', 'JJ'), ('average', 'NN'), ('of', 'IN'), ('2.89', 'CD'), ('%', 'NN'), (',', ','), (\"''\", \"''\"), ('the', 'DT'), ('official', 'NN'), ('said', 'VBD'), (',', ','), ('citing', 'VBG'), ('the', 'DT'), ('2019', 'CD'), ('Forest', 'NNP'), ('Survey', 'NNP'), ('of', 'IN'), ('India', 'NNP'), ('report', 'NN'), ('.', '.'), ('How', 'WRB'), ('many', 'JJ'), ('saplings', 'NNS'), ('survive', 'VBP'), ('?', '.'), ('ee', 'JJ'), ('planting', 'VBG'), ('project', 'NN'), ('?', '.'), ('India', 'NNP'), ('has', 'VBZ'), ('vowed', 'VBN'), ('to', 'TO'), ('have', 'VB'), ('a', 'DT'), ('third', 'JJ'), ('of', 'IN'), ('its', 'PRP$'), ('total', 'JJ'), ('land', 'NN'), ('area', 'NN'), (',', ','), ('or', 'CC'), ('95', 'CD'), ('million', 'CD'), ('hectares', 'NNS'), (',', ','), ('under', 'IN'), ('forest', 'NN'), ('and', 'CC'), ('tree', 'VB'), ('cover', 'NN'), ('by', 'IN'), ('2030', 'CD'), ('.', '.'), ('The', 'DT'), ('government', 'NN'), ('has', 'VBZ'), ('allocated', 'VBN'), ('$', '$'), ('6.2', 'CD'), ('billion', 'CD'), ('(', '('), ('â‚¬5.2', 'NNP'), ('billion', 'CD'), (')', ')'), ('for', 'IN'), ('the', 'DT'), ('tree-planting', 'JJ'), ('across', 'IN'), ('the', 'DT'), ('country', 'NN'), ('.', '.'), ('However', 'RB'), (',', ','), ('industrial', 'JJ'), ('development', 'NN'), ('and', 'CC'), ('a', 'DT'), ('rapidly', 'RB'), ('growing', 'VBG'), ('population', 'NN'), ('has', 'VBZ'), ('put', 'VBN'), ('further', 'RB'), ('stress', 'NN'), ('on', 'IN'), ('the', 'DT'), ('land', 'NN'), ('.', '.')]\n"
     ]
    }
   ],
   "source": [
    "postags = pos_tag(tokens)\n",
    "print(postags)"
   ]
  },
  {
   "cell_type": "code",
   "execution_count": null,
   "id": "bbd1e0c0",
   "metadata": {},
   "outputs": [],
   "source": []
  },
  {
   "cell_type": "markdown",
   "id": "8c332184",
   "metadata": {},
   "source": [
    "# Removing stop words"
   ]
  },
  {
   "cell_type": "code",
   "execution_count": 7,
   "id": "cc6eafb6",
   "metadata": {},
   "outputs": [
    {
     "name": "stdout",
     "output_type": "stream",
     "text": [
      "{\"should've\", 'between', 'don', 'those', 'o', \"don't\", 'herself', 'with', 'were', 'down', 'theirs', 'ain', \"isn't\", 'should', 'when', 'for', 'y', 'most', 'myself', 'further', 'there', 'few', 'haven', 'because', 'isn', 've', 'who', 'very', \"wasn't\", 'their', 'had', 'over', 'yourselves', 'he', 'of', 'from', 'only', 'same', \"weren't\", \"that'll\", 'it', 'some', 'too', 'while', \"you'll\", 're', \"haven't\", 'shouldn', 'them', \"didn't\", 'we', 'hers', \"she's\", 'any', 'more', \"hadn't\", 't', 'shan', 's', 'll', 'these', 'have', 'is', \"it's\", 'm', 'doing', \"you're\", 'until', \"shan't\", 'why', 'all', 'its', 'themselves', 'aren', \"you've\", 'me', 'does', 'a', 'ma', 'has', 'about', \"hasn't\", 'having', \"needn't\", 'she', 'in', 'against', 'whom', \"shouldn't\", \"won't\", 'how', 'd', 'not', 'that', 'himself', 'so', 'below', 'own', 'her', 'through', 'yourself', 'will', 'be', 'they', 'doesn', 'during', 'i', 'as', 'which', 'or', 'this', 'than', \"mightn't\", 'weren', 'am', 'where', 'hadn', 'then', 'what', 'being', 'on', 'above', 'mustn', 'no', 'can', 'ours', 'other', 'been', 'just', 'an', 'didn', 'wouldn', 'won', 'was', 'did', 'ourselves', 'to', 'such', 'out', 'both', \"doesn't\", 'itself', 'wasn', 'his', 'nor', \"you'd\", 'the', 'but', 'your', 'my', \"aren't\", 'mightn', 'do', 'each', 'are', 'at', 'off', \"mustn't\", 'yours', 'here', 'now', 'our', 'up', 'him', 'and', 'couldn', 'if', 'needn', 'before', 'into', 'under', 'hasn', \"wouldn't\", \"couldn't\", 'after', 'once', 'again', 'you', 'by'}\n"
     ]
    }
   ],
   "source": [
    "stop_words = set(stopwords.words('english'))\n",
    "print(stop_words)"
   ]
  },
  {
   "cell_type": "code",
   "execution_count": 8,
   "id": "49b1cacf",
   "metadata": {},
   "outputs": [
    {
     "name": "stdout",
     "output_type": "stream",
     "text": [
      "['Millions', 'people', 'India', 'took', 'part', 'annual', 'tree', 'planting', 'drive', 'Sunday', '.', 'More', '250', 'million', 'saplings', 'planted', 'single', 'day', 'across', 'country', \"'s\", 'most-populous', 'state', '.', 'The', 'campaign', 'led', 'Uttar', 'Pradesh', 'state', 'government', 'officials', ',', 'lawmakers', ',', 'activists', ',', 'bid', 'reduce', 'carbon', 'emissions', 'combat', 'climate', 'change', '.', 'Where', 'trees', 'planted', '?', 'The', 'saplings', 'planted', 'volunteers', 'forests', ',', 'farms', ',', 'schools', ',', 'along', 'riverbanks', 'highways', '.', '``', 'We', 'committed', 'increasing', 'forest', 'cover', 'Uttar', 'Pradesh', '15', '%', 'total', 'land', 'area', 'next', 'five', 'years', ',', \"''\", 'said', 'state', 'forest', 'official', 'Manoj', 'Singh', '.', 'According', 'another', 'government', 'official', ',', 'forest', 'cover', 'state', 'increased', 'last', 'years', '.', '``', 'There', 'increase', '127', 'sqare', 'kilometers', '[', '79', 'sqare', 'miles', ']', 'Â', 'forest', 'cover', 'Uttar', 'Pradesh', 'compared', '2017', ',', \"''\", 'state', 'government', 'spokesperson', 'quoted', 'saying', 'inÂ', 'The', 'Indian', 'Express', 'newspaper', '.', '``', 'There', 'also', 'increase', 'trees', 'plants', '.', 'The', 'tree', 'cover', 'increased', '3.05', '%', ',', 'compared', 'national', 'average', '2.89', '%', ',', \"''\", 'official', 'said', ',', 'citing', '2019', 'Forest', 'Survey', 'India', 'report', '.', 'How', 'many', 'saplings', 'survive', '?', 'Uttar', 'Pradesh', 'State', 'Forest', 'Minister', 'Dara', 'Singh', 'said', 'long-term', 'survival', 'saplings', 'remains', 'concern', ',', 'adding', 'usually', '60', '%', 'saplings', 'survive', '.', 'The', 'rest', 'succumb', 'disease', 'lack', 'water', '.', 'However', ',', 'said', 'thatÂ', '80', '%', 'saplings', 'planted', 'last', 'four', 'annual', 'drives', 'survived', '.', '``', 'All', 'regions', 'plantation', 'carried', 'geo-tagged', 'ascertain', 'exactly', 'happened', ',', \"''\", 'Chauhan', 'told', 'The', 'Pioneer', 'newspaper', '.', '``', 'These', 'saplings', 'carry', 'QR', 'codes', 'officials', 'maintain', 'record', 'verify', 'whether', 'saplings', 'survived', '.', 'Besides', ',', 'teams', 'formed', 'monitor', 'progress', 'plantation', 'drive', ',', \"''\", 'said', '.', 'What', 'extent', 'India', \"'s\", 'trMillions', 'people', 'India', 'took', 'part', 'annual', 'tree', 'planting', 'drive', 'Sunday', '.', 'More', '250', 'million', 'saplings', 'planted', 'single', 'day', 'across', 'country', \"'s\", 'most-populous', 'state', '.', 'The', 'campaign', 'led', 'Uttar', 'Pradesh', 'state', 'government', 'officials', ',', 'lawmakers', ',', 'activists', ',', 'bid', 'reduce', 'carbon', 'emissions', 'combat', 'climate', 'change', '.', 'Where', 'trees', 'planted', '?', 'The', 'saplings', 'planted', 'volunteers', 'forests', ',', 'farms', ',', 'schools', ',', 'along', 'riverbanks', 'highways', '.', '``', 'We', 'committed', 'increasing', 'forest', 'cover', 'Uttar', 'Pradesh', '15', '%', 'total', 'land', 'area', 'next', 'five', 'years', ',', \"''\", 'said', 'state', 'forest', 'official', 'Manoj', 'Singh', '.', 'According', 'another', 'government', 'official', ',', 'forest', 'cover', 'state', 'increased', 'last', 'years', '.', '``', 'There', 'increase', '127', 'sqare', 'kilometers', '[', '79', 'sqare', 'miles', ']', 'Â', 'forest', 'cover', 'Uttar', 'Pradesh', 'compared', '2017', ',', \"''\", 'state', 'government', 'spokesperson', 'quoted', 'saying', 'inÂ', 'The', 'Indian', 'Express', 'newspaper', '.', '``', 'There', 'also', 'increase', 'trees', 'plants', '.', 'The', 'tree', 'cover', 'increased', '3.05', '%', ',', 'compared', 'national', 'average', '2.89', '%', ',', \"''\", 'official', 'said', ',', 'citing', '2019', 'Forest', 'Survey', 'India', 'report', '.', 'How', 'many', 'saplings', 'survive', '?', 'ee', 'planting', 'project', '?', 'India', 'vowed', 'third', 'total', 'land', 'area', ',', '95', 'million', 'hectares', ',', 'forest', 'tree', 'cover', '2030', '.', 'The', 'government', 'allocated', '$', '6.2', 'billion', '(', 'â‚¬5.2', 'billion', ')', 'tree-planting', 'across', 'country', '.', 'However', ',', 'industrial', 'development', 'rapidly', 'growing', 'population', 'put', 'stress', 'land', '.']\n"
     ]
    }
   ],
   "source": [
    "li = []\n",
    "for words in tokens:\n",
    "    if words not in stop_words:\n",
    "        li.append(words)\n",
    "print(li)"
   ]
  },
  {
   "cell_type": "code",
   "execution_count": null,
   "id": "e28f6a54",
   "metadata": {},
   "outputs": [],
   "source": []
  },
  {
   "cell_type": "markdown",
   "id": "f497d06d",
   "metadata": {},
   "source": [
    "# Stemming"
   ]
  },
  {
   "cell_type": "code",
   "execution_count": 9,
   "id": "bd0358e7",
   "metadata": {},
   "outputs": [
    {
     "name": "stdout",
     "output_type": "stream",
     "text": [
      "[['Millions', 'million'], ['people', 'peopl'], ['India', 'india'], ['took', 'took'], ['part', 'part'], ['annual', 'annual'], ['tree', 'tree'], ['planting', 'plant'], ['drive', 'drive'], ['Sunday', 'sunday'], ['.', '.'], ['More', 'more'], ['250', '250'], ['million', 'million'], ['saplings', 'sapl'], ['planted', 'plant'], ['single', 'singl'], ['day', 'day'], ['across', 'across'], ['country', 'countri'], [\"'s\", \"'s\"], ['most-populous', 'most-popul'], ['state', 'state'], ['.', '.'], ['The', 'the'], ['campaign', 'campaign'], ['led', 'led'], ['Uttar', 'uttar'], ['Pradesh', 'pradesh'], ['state', 'state'], ['government', 'govern'], ['officials', 'offici'], [',', ','], ['lawmakers', 'lawmak'], [',', ','], ['activists', 'activist'], [',', ','], ['bid', 'bid'], ['reduce', 'reduc'], ['carbon', 'carbon'], ['emissions', 'emiss'], ['combat', 'combat'], ['climate', 'climat'], ['change', 'chang'], ['.', '.'], ['Where', 'where'], ['trees', 'tree'], ['planted', 'plant'], ['?', '?'], ['The', 'the'], ['saplings', 'sapl'], ['planted', 'plant'], ['volunteers', 'volunt'], ['forests', 'forest'], [',', ','], ['farms', 'farm'], [',', ','], ['schools', 'school'], [',', ','], ['along', 'along'], ['riverbanks', 'riverbank'], ['highways', 'highway'], ['.', '.'], ['``', '``'], ['We', 'we'], ['committed', 'commit'], ['increasing', 'increas'], ['forest', 'forest'], ['cover', 'cover'], ['Uttar', 'uttar'], ['Pradesh', 'pradesh'], ['15', '15'], ['%', '%'], ['total', 'total'], ['land', 'land'], ['area', 'area'], ['next', 'next'], ['five', 'five'], ['years', 'year'], [',', ','], [\"''\", \"''\"], ['said', 'said'], ['state', 'state'], ['forest', 'forest'], ['official', 'offici'], ['Manoj', 'manoj'], ['Singh', 'singh'], ['.', '.'], ['According', 'accord'], ['another', 'anoth'], ['government', 'govern'], ['official', 'offici'], [',', ','], ['forest', 'forest'], ['cover', 'cover'], ['state', 'state'], ['increased', 'increas'], ['last', 'last'], ['years', 'year'], ['.', '.'], ['``', '``'], ['There', 'there'], ['increase', 'increas'], ['127', '127'], ['sqare', 'sqare'], ['kilometers', 'kilomet'], ['[', '['], ['79', '79'], ['sqare', 'sqare'], ['miles', 'mile'], [']', ']'], ['Â', 'â'], ['forest', 'forest'], ['cover', 'cover'], ['Uttar', 'uttar'], ['Pradesh', 'pradesh'], ['compared', 'compar'], ['2017', '2017'], [',', ','], [\"''\", \"''\"], ['state', 'state'], ['government', 'govern'], ['spokesperson', 'spokesperson'], ['quoted', 'quot'], ['saying', 'say'], ['inÂ', 'inâ'], ['The', 'the'], ['Indian', 'indian'], ['Express', 'express'], ['newspaper', 'newspap'], ['.', '.'], ['``', '``'], ['There', 'there'], ['also', 'also'], ['increase', 'increas'], ['trees', 'tree'], ['plants', 'plant'], ['.', '.'], ['The', 'the'], ['tree', 'tree'], ['cover', 'cover'], ['increased', 'increas'], ['3.05', '3.05'], ['%', '%'], [',', ','], ['compared', 'compar'], ['national', 'nation'], ['average', 'averag'], ['2.89', '2.89'], ['%', '%'], [',', ','], [\"''\", \"''\"], ['official', 'offici'], ['said', 'said'], [',', ','], ['citing', 'cite'], ['2019', '2019'], ['Forest', 'forest'], ['Survey', 'survey'], ['India', 'india'], ['report', 'report'], ['.', '.'], ['How', 'how'], ['many', 'mani'], ['saplings', 'sapl'], ['survive', 'surviv'], ['?', '?'], ['Uttar', 'uttar'], ['Pradesh', 'pradesh'], ['State', 'state'], ['Forest', 'forest'], ['Minister', 'minist'], ['Dara', 'dara'], ['Singh', 'singh'], ['said', 'said'], ['long-term', 'long-term'], ['survival', 'surviv'], ['saplings', 'sapl'], ['remains', 'remain'], ['concern', 'concern'], [',', ','], ['adding', 'ad'], ['usually', 'usual'], ['60', '60'], ['%', '%'], ['saplings', 'sapl'], ['survive', 'surviv'], ['.', '.'], ['The', 'the'], ['rest', 'rest'], ['succumb', 'succumb'], ['disease', 'diseas'], ['lack', 'lack'], ['water', 'water'], ['.', '.'], ['However', 'howev'], [',', ','], ['said', 'said'], ['thatÂ', 'thatâ'], ['80', '80'], ['%', '%'], ['saplings', 'sapl'], ['planted', 'plant'], ['last', 'last'], ['four', 'four'], ['annual', 'annual'], ['drives', 'drive'], ['survived', 'surviv'], ['.', '.'], ['``', '``'], ['All', 'all'], ['regions', 'region'], ['plantation', 'plantat'], ['carried', 'carri'], ['geo-tagged', 'geo-tag'], ['ascertain', 'ascertain'], ['exactly', 'exactli'], ['happened', 'happen'], [',', ','], [\"''\", \"''\"], ['Chauhan', 'chauhan'], ['told', 'told'], ['The', 'the'], ['Pioneer', 'pioneer'], ['newspaper', 'newspap'], ['.', '.'], ['``', '``'], ['These', 'these'], ['saplings', 'sapl'], ['carry', 'carri'], ['QR', 'qr'], ['codes', 'code'], ['officials', 'offici'], ['maintain', 'maintain'], ['record', 'record'], ['verify', 'verifi'], ['whether', 'whether'], ['saplings', 'sapl'], ['survived', 'surviv'], ['.', '.'], ['Besides', 'besid'], [',', ','], ['teams', 'team'], ['formed', 'form'], ['monitor', 'monitor'], ['progress', 'progress'], ['plantation', 'plantat'], ['drive', 'drive'], [',', ','], [\"''\", \"''\"], ['said', 'said'], ['.', '.'], ['What', 'what'], ['extent', 'extent'], ['India', 'india'], [\"'s\", \"'s\"], ['trMillions', 'trmillion'], ['people', 'peopl'], ['India', 'india'], ['took', 'took'], ['part', 'part'], ['annual', 'annual'], ['tree', 'tree'], ['planting', 'plant'], ['drive', 'drive'], ['Sunday', 'sunday'], ['.', '.'], ['More', 'more'], ['250', '250'], ['million', 'million'], ['saplings', 'sapl'], ['planted', 'plant'], ['single', 'singl'], ['day', 'day'], ['across', 'across'], ['country', 'countri'], [\"'s\", \"'s\"], ['most-populous', 'most-popul'], ['state', 'state'], ['.', '.'], ['The', 'the'], ['campaign', 'campaign'], ['led', 'led'], ['Uttar', 'uttar'], ['Pradesh', 'pradesh'], ['state', 'state'], ['government', 'govern'], ['officials', 'offici'], [',', ','], ['lawmakers', 'lawmak'], [',', ','], ['activists', 'activist'], [',', ','], ['bid', 'bid'], ['reduce', 'reduc'], ['carbon', 'carbon'], ['emissions', 'emiss'], ['combat', 'combat'], ['climate', 'climat'], ['change', 'chang'], ['.', '.'], ['Where', 'where'], ['trees', 'tree'], ['planted', 'plant'], ['?', '?'], ['The', 'the'], ['saplings', 'sapl'], ['planted', 'plant'], ['volunteers', 'volunt'], ['forests', 'forest'], [',', ','], ['farms', 'farm'], [',', ','], ['schools', 'school'], [',', ','], ['along', 'along'], ['riverbanks', 'riverbank'], ['highways', 'highway'], ['.', '.'], ['``', '``'], ['We', 'we'], ['committed', 'commit'], ['increasing', 'increas'], ['forest', 'forest'], ['cover', 'cover'], ['Uttar', 'uttar'], ['Pradesh', 'pradesh'], ['15', '15'], ['%', '%'], ['total', 'total'], ['land', 'land'], ['area', 'area'], ['next', 'next'], ['five', 'five'], ['years', 'year'], [',', ','], [\"''\", \"''\"], ['said', 'said'], ['state', 'state'], ['forest', 'forest'], ['official', 'offici'], ['Manoj', 'manoj'], ['Singh', 'singh'], ['.', '.'], ['According', 'accord'], ['another', 'anoth'], ['government', 'govern'], ['official', 'offici'], [',', ','], ['forest', 'forest'], ['cover', 'cover'], ['state', 'state'], ['increased', 'increas'], ['last', 'last'], ['years', 'year'], ['.', '.'], ['``', '``'], ['There', 'there'], ['increase', 'increas'], ['127', '127'], ['sqare', 'sqare'], ['kilometers', 'kilomet'], ['[', '['], ['79', '79'], ['sqare', 'sqare'], ['miles', 'mile'], [']', ']'], ['Â', 'â'], ['forest', 'forest'], ['cover', 'cover'], ['Uttar', 'uttar'], ['Pradesh', 'pradesh'], ['compared', 'compar'], ['2017', '2017'], [',', ','], [\"''\", \"''\"], ['state', 'state'], ['government', 'govern'], ['spokesperson', 'spokesperson'], ['quoted', 'quot'], ['saying', 'say'], ['inÂ', 'inâ'], ['The', 'the'], ['Indian', 'indian'], ['Express', 'express'], ['newspaper', 'newspap'], ['.', '.'], ['``', '``'], ['There', 'there'], ['also', 'also'], ['increase', 'increas'], ['trees', 'tree'], ['plants', 'plant'], ['.', '.'], ['The', 'the'], ['tree', 'tree'], ['cover', 'cover'], ['increased', 'increas'], ['3.05', '3.05'], ['%', '%'], [',', ','], ['compared', 'compar'], ['national', 'nation'], ['average', 'averag'], ['2.89', '2.89'], ['%', '%'], [',', ','], [\"''\", \"''\"], ['official', 'offici'], ['said', 'said'], [',', ','], ['citing', 'cite'], ['2019', '2019'], ['Forest', 'forest'], ['Survey', 'survey'], ['India', 'india'], ['report', 'report'], ['.', '.'], ['How', 'how'], ['many', 'mani'], ['saplings', 'sapl'], ['survive', 'surviv'], ['?', '?'], ['ee', 'ee'], ['planting', 'plant'], ['project', 'project'], ['?', '?'], ['India', 'india'], ['vowed', 'vow'], ['third', 'third'], ['total', 'total'], ['land', 'land'], ['area', 'area'], [',', ','], ['95', '95'], ['million', 'million'], ['hectares', 'hectar'], [',', ','], ['forest', 'forest'], ['tree', 'tree'], ['cover', 'cover'], ['2030', '2030'], ['.', '.'], ['The', 'the'], ['government', 'govern'], ['allocated', 'alloc'], ['$', '$'], ['6.2', '6.2'], ['billion', 'billion'], ['(', '('], ['â‚¬5.2', 'â‚¬5.2'], ['billion', 'billion'], [')', ')'], ['tree-planting', 'tree-plant'], ['across', 'across'], ['country', 'countri'], ['.', '.'], ['However', 'howev'], [',', ','], ['industrial', 'industri'], ['development', 'develop'], ['rapidly', 'rapidli'], ['growing', 'grow'], ['population', 'popul'], ['put', 'put'], ['stress', 'stress'], ['land', 'land'], ['.', '.']]\n"
     ]
    }
   ],
   "source": [
    "ps = PorterStemmer()\n",
    "stemlist = []\n",
    "for words in li:\n",
    "    stemlist.append([words, ps.stem(words)])\n",
    "print(stemlist)"
   ]
  },
  {
   "cell_type": "code",
   "execution_count": null,
   "id": "4c38dfe0",
   "metadata": {},
   "outputs": [],
   "source": []
  },
  {
   "cell_type": "markdown",
   "id": "19282884",
   "metadata": {},
   "source": [
    "# Lemmatization"
   ]
  },
  {
   "cell_type": "code",
   "execution_count": 10,
   "id": "362693fb",
   "metadata": {},
   "outputs": [
    {
     "name": "stdout",
     "output_type": "stream",
     "text": [
      "[['Millions', 'Millions'], ['people', 'people'], ['India', 'India'], ['took', 'took'], ['part', 'part'], ['annual', 'annual'], ['tree', 'tree'], ['planting', 'planting'], ['drive', 'drive'], ['Sunday', 'Sunday'], ['.', '.'], ['More', 'More'], ['250', '250'], ['million', 'million'], ['saplings', 'sapling'], ['planted', 'planted'], ['single', 'single'], ['day', 'day'], ['across', 'across'], ['country', 'country'], [\"'s\", \"'s\"], ['most-populous', 'most-populous'], ['state', 'state'], ['.', '.'], ['The', 'The'], ['campaign', 'campaign'], ['led', 'led'], ['Uttar', 'Uttar'], ['Pradesh', 'Pradesh'], ['state', 'state'], ['government', 'government'], ['officials', 'official'], [',', ','], ['lawmakers', 'lawmaker'], [',', ','], ['activists', 'activist'], [',', ','], ['bid', 'bid'], ['reduce', 'reduce'], ['carbon', 'carbon'], ['emissions', 'emission'], ['combat', 'combat'], ['climate', 'climate'], ['change', 'change'], ['.', '.'], ['Where', 'Where'], ['trees', 'tree'], ['planted', 'planted'], ['?', '?'], ['The', 'The'], ['saplings', 'sapling'], ['planted', 'planted'], ['volunteers', 'volunteer'], ['forests', 'forest'], [',', ','], ['farms', 'farm'], [',', ','], ['schools', 'school'], [',', ','], ['along', 'along'], ['riverbanks', 'riverbank'], ['highways', 'highway'], ['.', '.'], ['``', '``'], ['We', 'We'], ['committed', 'committed'], ['increasing', 'increasing'], ['forest', 'forest'], ['cover', 'cover'], ['Uttar', 'Uttar'], ['Pradesh', 'Pradesh'], ['15', '15'], ['%', '%'], ['total', 'total'], ['land', 'land'], ['area', 'area'], ['next', 'next'], ['five', 'five'], ['years', 'year'], [',', ','], [\"''\", \"''\"], ['said', 'said'], ['state', 'state'], ['forest', 'forest'], ['official', 'official'], ['Manoj', 'Manoj'], ['Singh', 'Singh'], ['.', '.'], ['According', 'According'], ['another', 'another'], ['government', 'government'], ['official', 'official'], [',', ','], ['forest', 'forest'], ['cover', 'cover'], ['state', 'state'], ['increased', 'increased'], ['last', 'last'], ['years', 'year'], ['.', '.'], ['``', '``'], ['There', 'There'], ['increase', 'increase'], ['127', '127'], ['sqare', 'sqare'], ['kilometers', 'kilometer'], ['[', '['], ['79', '79'], ['sqare', 'sqare'], ['miles', 'mile'], [']', ']'], ['Â', 'Â'], ['forest', 'forest'], ['cover', 'cover'], ['Uttar', 'Uttar'], ['Pradesh', 'Pradesh'], ['compared', 'compared'], ['2017', '2017'], [',', ','], [\"''\", \"''\"], ['state', 'state'], ['government', 'government'], ['spokesperson', 'spokesperson'], ['quoted', 'quoted'], ['saying', 'saying'], ['inÂ', 'inÂ'], ['The', 'The'], ['Indian', 'Indian'], ['Express', 'Express'], ['newspaper', 'newspaper'], ['.', '.'], ['``', '``'], ['There', 'There'], ['also', 'also'], ['increase', 'increase'], ['trees', 'tree'], ['plants', 'plant'], ['.', '.'], ['The', 'The'], ['tree', 'tree'], ['cover', 'cover'], ['increased', 'increased'], ['3.05', '3.05'], ['%', '%'], [',', ','], ['compared', 'compared'], ['national', 'national'], ['average', 'average'], ['2.89', '2.89'], ['%', '%'], [',', ','], [\"''\", \"''\"], ['official', 'official'], ['said', 'said'], [',', ','], ['citing', 'citing'], ['2019', '2019'], ['Forest', 'Forest'], ['Survey', 'Survey'], ['India', 'India'], ['report', 'report'], ['.', '.'], ['How', 'How'], ['many', 'many'], ['saplings', 'sapling'], ['survive', 'survive'], ['?', '?'], ['Uttar', 'Uttar'], ['Pradesh', 'Pradesh'], ['State', 'State'], ['Forest', 'Forest'], ['Minister', 'Minister'], ['Dara', 'Dara'], ['Singh', 'Singh'], ['said', 'said'], ['long-term', 'long-term'], ['survival', 'survival'], ['saplings', 'sapling'], ['remains', 'remains'], ['concern', 'concern'], [',', ','], ['adding', 'adding'], ['usually', 'usually'], ['60', '60'], ['%', '%'], ['saplings', 'sapling'], ['survive', 'survive'], ['.', '.'], ['The', 'The'], ['rest', 'rest'], ['succumb', 'succumb'], ['disease', 'disease'], ['lack', 'lack'], ['water', 'water'], ['.', '.'], ['However', 'However'], [',', ','], ['said', 'said'], ['thatÂ', 'thatÂ'], ['80', '80'], ['%', '%'], ['saplings', 'sapling'], ['planted', 'planted'], ['last', 'last'], ['four', 'four'], ['annual', 'annual'], ['drives', 'drive'], ['survived', 'survived'], ['.', '.'], ['``', '``'], ['All', 'All'], ['regions', 'region'], ['plantation', 'plantation'], ['carried', 'carried'], ['geo-tagged', 'geo-tagged'], ['ascertain', 'ascertain'], ['exactly', 'exactly'], ['happened', 'happened'], [',', ','], [\"''\", \"''\"], ['Chauhan', 'Chauhan'], ['told', 'told'], ['The', 'The'], ['Pioneer', 'Pioneer'], ['newspaper', 'newspaper'], ['.', '.'], ['``', '``'], ['These', 'These'], ['saplings', 'sapling'], ['carry', 'carry'], ['QR', 'QR'], ['codes', 'code'], ['officials', 'official'], ['maintain', 'maintain'], ['record', 'record'], ['verify', 'verify'], ['whether', 'whether'], ['saplings', 'sapling'], ['survived', 'survived'], ['.', '.'], ['Besides', 'Besides'], [',', ','], ['teams', 'team'], ['formed', 'formed'], ['monitor', 'monitor'], ['progress', 'progress'], ['plantation', 'plantation'], ['drive', 'drive'], [',', ','], [\"''\", \"''\"], ['said', 'said'], ['.', '.'], ['What', 'What'], ['extent', 'extent'], ['India', 'India'], [\"'s\", \"'s\"], ['trMillions', 'trMillions'], ['people', 'people'], ['India', 'India'], ['took', 'took'], ['part', 'part'], ['annual', 'annual'], ['tree', 'tree'], ['planting', 'planting'], ['drive', 'drive'], ['Sunday', 'Sunday'], ['.', '.'], ['More', 'More'], ['250', '250'], ['million', 'million'], ['saplings', 'sapling'], ['planted', 'planted'], ['single', 'single'], ['day', 'day'], ['across', 'across'], ['country', 'country'], [\"'s\", \"'s\"], ['most-populous', 'most-populous'], ['state', 'state'], ['.', '.'], ['The', 'The'], ['campaign', 'campaign'], ['led', 'led'], ['Uttar', 'Uttar'], ['Pradesh', 'Pradesh'], ['state', 'state'], ['government', 'government'], ['officials', 'official'], [',', ','], ['lawmakers', 'lawmaker'], [',', ','], ['activists', 'activist'], [',', ','], ['bid', 'bid'], ['reduce', 'reduce'], ['carbon', 'carbon'], ['emissions', 'emission'], ['combat', 'combat'], ['climate', 'climate'], ['change', 'change'], ['.', '.'], ['Where', 'Where'], ['trees', 'tree'], ['planted', 'planted'], ['?', '?'], ['The', 'The'], ['saplings', 'sapling'], ['planted', 'planted'], ['volunteers', 'volunteer'], ['forests', 'forest'], [',', ','], ['farms', 'farm'], [',', ','], ['schools', 'school'], [',', ','], ['along', 'along'], ['riverbanks', 'riverbank'], ['highways', 'highway'], ['.', '.'], ['``', '``'], ['We', 'We'], ['committed', 'committed'], ['increasing', 'increasing'], ['forest', 'forest'], ['cover', 'cover'], ['Uttar', 'Uttar'], ['Pradesh', 'Pradesh'], ['15', '15'], ['%', '%'], ['total', 'total'], ['land', 'land'], ['area', 'area'], ['next', 'next'], ['five', 'five'], ['years', 'year'], [',', ','], [\"''\", \"''\"], ['said', 'said'], ['state', 'state'], ['forest', 'forest'], ['official', 'official'], ['Manoj', 'Manoj'], ['Singh', 'Singh'], ['.', '.'], ['According', 'According'], ['another', 'another'], ['government', 'government'], ['official', 'official'], [',', ','], ['forest', 'forest'], ['cover', 'cover'], ['state', 'state'], ['increased', 'increased'], ['last', 'last'], ['years', 'year'], ['.', '.'], ['``', '``'], ['There', 'There'], ['increase', 'increase'], ['127', '127'], ['sqare', 'sqare'], ['kilometers', 'kilometer'], ['[', '['], ['79', '79'], ['sqare', 'sqare'], ['miles', 'mile'], [']', ']'], ['Â', 'Â'], ['forest', 'forest'], ['cover', 'cover'], ['Uttar', 'Uttar'], ['Pradesh', 'Pradesh'], ['compared', 'compared'], ['2017', '2017'], [',', ','], [\"''\", \"''\"], ['state', 'state'], ['government', 'government'], ['spokesperson', 'spokesperson'], ['quoted', 'quoted'], ['saying', 'saying'], ['inÂ', 'inÂ'], ['The', 'The'], ['Indian', 'Indian'], ['Express', 'Express'], ['newspaper', 'newspaper'], ['.', '.'], ['``', '``'], ['There', 'There'], ['also', 'also'], ['increase', 'increase'], ['trees', 'tree'], ['plants', 'plant'], ['.', '.'], ['The', 'The'], ['tree', 'tree'], ['cover', 'cover'], ['increased', 'increased'], ['3.05', '3.05'], ['%', '%'], [',', ','], ['compared', 'compared'], ['national', 'national'], ['average', 'average'], ['2.89', '2.89'], ['%', '%'], [',', ','], [\"''\", \"''\"], ['official', 'official'], ['said', 'said'], [',', ','], ['citing', 'citing'], ['2019', '2019'], ['Forest', 'Forest'], ['Survey', 'Survey'], ['India', 'India'], ['report', 'report'], ['.', '.'], ['How', 'How'], ['many', 'many'], ['saplings', 'sapling'], ['survive', 'survive'], ['?', '?'], ['ee', 'ee'], ['planting', 'planting'], ['project', 'project'], ['?', '?'], ['India', 'India'], ['vowed', 'vowed'], ['third', 'third'], ['total', 'total'], ['land', 'land'], ['area', 'area'], [',', ','], ['95', '95'], ['million', 'million'], ['hectares', 'hectare'], [',', ','], ['forest', 'forest'], ['tree', 'tree'], ['cover', 'cover'], ['2030', '2030'], ['.', '.'], ['The', 'The'], ['government', 'government'], ['allocated', 'allocated'], ['$', '$'], ['6.2', '6.2'], ['billion', 'billion'], ['(', '('], ['â‚¬5.2', 'â‚¬5.2'], ['billion', 'billion'], [')', ')'], ['tree-planting', 'tree-planting'], ['across', 'across'], ['country', 'country'], ['.', '.'], ['However', 'However'], [',', ','], ['industrial', 'industrial'], ['development', 'development'], ['rapidly', 'rapidly'], ['growing', 'growing'], ['population', 'population'], ['put', 'put'], ['stress', 'stress'], ['land', 'land'], ['.', '.']]\n"
     ]
    }
   ],
   "source": [
    "wl = WordNetLemmatizer()\n",
    "lemilist = []\n",
    "for words in li:\n",
    "    lemilist.append([words, wl.lemmatize(words)])\n",
    "print(lemilist)"
   ]
  },
  {
   "cell_type": "code",
   "execution_count": null,
   "id": "1326cad5",
   "metadata": {},
   "outputs": [],
   "source": []
  },
  {
   "cell_type": "markdown",
   "id": "9037ada9",
   "metadata": {},
   "source": [
    "# Word frequency"
   ]
  },
  {
   "cell_type": "code",
   "execution_count": 11,
   "id": "e7a4380f",
   "metadata": {},
   "outputs": [
    {
     "name": "stdout",
     "output_type": "stream",
     "text": [
      "{'Millions': 1, 'people': 2, 'India': 6, 'took': 2, 'part': 2, 'annual': 3, 'tree': 5, 'planting': 3, 'drive': 3, 'Sunday': 2, '.': 27, 'More': 2, '250': 2, 'million': 3, 'saplings': 11, 'planted': 7, 'single': 2, 'day': 2, 'across': 3, 'country': 3, \"'s\": 3, 'most-populous': 2, 'state': 10, 'The': 11, 'campaign': 2, 'led': 2, 'Uttar': 7, 'Pradesh': 7, 'government': 7, 'officials': 3, ',': 32, 'lawmakers': 2, 'activists': 2, 'bid': 2, 'reduce': 2, 'carbon': 2, 'emissions': 2, 'combat': 2, 'climate': 2, 'change': 2, 'Where': 2, 'trees': 4, '?': 5, 'volunteers': 2, 'forests': 2, 'farms': 2, 'schools': 2, 'along': 2, 'riverbanks': 2, 'highways': 2, '``': 8, 'We': 2, 'committed': 2, 'increasing': 2, 'forest': 9, 'cover': 9, '15': 2, '%': 8, 'total': 3, 'land': 4, 'area': 3, 'next': 2, 'five': 2, 'years': 4, \"''\": 8, 'said': 7, 'official': 6, 'Manoj': 2, 'Singh': 3, 'According': 2, 'another': 2, 'increased': 4, 'last': 3, 'There': 4, 'increase': 4, '127': 2, 'sqare': 4, 'kilometers': 2, '[': 2, '79': 2, 'miles': 2, ']': 2, 'Â': 2, 'compared': 4, '2017': 2, 'spokesperson': 2, 'quoted': 2, 'saying': 2, 'inÂ': 2, 'Indian': 2, 'Express': 2, 'newspaper': 3, 'also': 2, 'plants': 2, '3.05': 2, 'national': 2, 'average': 2, '2.89': 2, 'citing': 2, '2019': 2, 'Forest': 3, 'Survey': 2, 'report': 2, 'How': 2, 'many': 2, 'survive': 3, 'State': 1, 'Minister': 1, 'Dara': 1, 'long-term': 1, 'survival': 1, 'remains': 1, 'concern': 1, 'adding': 1, 'usually': 1, '60': 1, 'rest': 1, 'succumb': 1, 'disease': 1, 'lack': 1, 'water': 1, 'However': 2, 'thatÂ': 1, '80': 1, 'four': 1, 'drives': 1, 'survived': 2, 'All': 1, 'regions': 1, 'plantation': 2, 'carried': 1, 'geo-tagged': 1, 'ascertain': 1, 'exactly': 1, 'happened': 1, 'Chauhan': 1, 'told': 1, 'Pioneer': 1, 'These': 1, 'carry': 1, 'QR': 1, 'codes': 1, 'maintain': 1, 'record': 1, 'verify': 1, 'whether': 1, 'Besides': 1, 'teams': 1, 'formed': 1, 'monitor': 1, 'progress': 1, 'What': 1, 'extent': 1, 'trMillions': 1, 'ee': 1, 'project': 1, 'vowed': 1, 'third': 1, '95': 1, 'hectares': 1, '2030': 1, 'allocated': 1, '$': 1, '6.2': 1, 'billion': 2, '(': 1, 'â‚¬5.2': 1, ')': 1, 'tree-planting': 1, 'industrial': 1, 'development': 1, 'rapidly': 1, 'growing': 1, 'population': 1, 'put': 1, 'stress': 1}\n"
     ]
    }
   ],
   "source": [
    "fre = dict()\n",
    "for words in li:\n",
    "    if words in fre:\n",
    "        fre[words] += 1\n",
    "    else:\n",
    "        fre[words] = 1\n",
    "print(fre)"
   ]
  },
  {
   "cell_type": "code",
   "execution_count": null,
   "id": "8a4e3f1d",
   "metadata": {},
   "outputs": [],
   "source": []
  },
  {
   "cell_type": "markdown",
   "id": "79dec2ce",
   "metadata": {},
   "source": [
    "# Calculate TF for each word in li"
   ]
  },
  {
   "cell_type": "code",
   "execution_count": 12,
   "id": "7dfe8e33",
   "metadata": {},
   "outputs": [
    {
     "name": "stdout",
     "output_type": "stream",
     "text": [
      "{'Millions': 0.002136752136752137, 'people': 0.004273504273504274, 'India': 0.01282051282051282, 'took': 0.004273504273504274, 'part': 0.004273504273504274, 'annual': 0.006410256410256411, 'tree': 0.010683760683760684, 'planting': 0.006410256410256411, 'drive': 0.006410256410256411, 'Sunday': 0.004273504273504274, '.': 0.05769230769230768, 'More': 0.004273504273504274, '250': 0.004273504273504274, 'million': 0.006410256410256411, 'saplings': 0.0235042735042735, 'planted': 0.014957264957264956, 'single': 0.004273504273504274, 'day': 0.004273504273504274, 'across': 0.006410256410256411, 'country': 0.006410256410256411, \"'s\": 0.006410256410256411, 'most-populous': 0.004273504273504274, 'state': 0.021367521367521364, 'The': 0.0235042735042735, 'campaign': 0.004273504273504274, 'led': 0.004273504273504274, 'Uttar': 0.014957264957264956, 'Pradesh': 0.014957264957264956, 'government': 0.014957264957264956, 'officials': 0.006410256410256411, ',': 0.06837606837606838, 'lawmakers': 0.004273504273504274, 'activists': 0.004273504273504274, 'bid': 0.004273504273504274, 'reduce': 0.004273504273504274, 'carbon': 0.004273504273504274, 'emissions': 0.004273504273504274, 'combat': 0.004273504273504274, 'climate': 0.004273504273504274, 'change': 0.004273504273504274, 'Where': 0.004273504273504274, 'trees': 0.008547008547008548, '?': 0.010683760683760684, 'volunteers': 0.004273504273504274, 'forests': 0.004273504273504274, 'farms': 0.004273504273504274, 'schools': 0.004273504273504274, 'along': 0.004273504273504274, 'riverbanks': 0.004273504273504274, 'highways': 0.004273504273504274, '``': 0.017094017094017092, 'We': 0.004273504273504274, 'committed': 0.004273504273504274, 'increasing': 0.004273504273504274, 'forest': 0.01923076923076923, 'cover': 0.01923076923076923, '15': 0.004273504273504274, '%': 0.017094017094017092, 'total': 0.006410256410256411, 'land': 0.008547008547008548, 'area': 0.006410256410256411, 'next': 0.004273504273504274, 'five': 0.004273504273504274, 'years': 0.008547008547008548, \"''\": 0.017094017094017092, 'said': 0.014957264957264956, 'official': 0.01282051282051282, 'Manoj': 0.004273504273504274, 'Singh': 0.006410256410256411, 'According': 0.004273504273504274, 'another': 0.004273504273504274, 'increased': 0.008547008547008548, 'last': 0.006410256410256411, 'There': 0.008547008547008548, 'increase': 0.008547008547008548, '127': 0.004273504273504274, 'sqare': 0.008547008547008548, 'kilometers': 0.004273504273504274, '[': 0.004273504273504274, '79': 0.004273504273504274, 'miles': 0.004273504273504274, ']': 0.004273504273504274, 'Â': 0.004273504273504274, 'compared': 0.008547008547008548, '2017': 0.004273504273504274, 'spokesperson': 0.004273504273504274, 'quoted': 0.004273504273504274, 'saying': 0.004273504273504274, 'inÂ': 0.004273504273504274, 'Indian': 0.004273504273504274, 'Express': 0.004273504273504274, 'newspaper': 0.006410256410256411, 'also': 0.004273504273504274, 'plants': 0.004273504273504274, '3.05': 0.004273504273504274, 'national': 0.004273504273504274, 'average': 0.004273504273504274, '2.89': 0.004273504273504274, 'citing': 0.004273504273504274, '2019': 0.004273504273504274, 'Forest': 0.006410256410256411, 'Survey': 0.004273504273504274, 'report': 0.004273504273504274, 'How': 0.004273504273504274, 'many': 0.004273504273504274, 'survive': 0.006410256410256411, 'State': 0.002136752136752137, 'Minister': 0.002136752136752137, 'Dara': 0.002136752136752137, 'long-term': 0.002136752136752137, 'survival': 0.002136752136752137, 'remains': 0.002136752136752137, 'concern': 0.002136752136752137, 'adding': 0.002136752136752137, 'usually': 0.002136752136752137, '60': 0.002136752136752137, 'rest': 0.002136752136752137, 'succumb': 0.002136752136752137, 'disease': 0.002136752136752137, 'lack': 0.002136752136752137, 'water': 0.002136752136752137, 'However': 0.004273504273504274, 'thatÂ': 0.002136752136752137, '80': 0.002136752136752137, 'four': 0.002136752136752137, 'drives': 0.002136752136752137, 'survived': 0.004273504273504274, 'All': 0.002136752136752137, 'regions': 0.002136752136752137, 'plantation': 0.004273504273504274, 'carried': 0.002136752136752137, 'geo-tagged': 0.002136752136752137, 'ascertain': 0.002136752136752137, 'exactly': 0.002136752136752137, 'happened': 0.002136752136752137, 'Chauhan': 0.002136752136752137, 'told': 0.002136752136752137, 'Pioneer': 0.002136752136752137, 'These': 0.002136752136752137, 'carry': 0.002136752136752137, 'QR': 0.002136752136752137, 'codes': 0.002136752136752137, 'maintain': 0.002136752136752137, 'record': 0.002136752136752137, 'verify': 0.002136752136752137, 'whether': 0.002136752136752137, 'Besides': 0.002136752136752137, 'teams': 0.002136752136752137, 'formed': 0.002136752136752137, 'monitor': 0.002136752136752137, 'progress': 0.002136752136752137, 'What': 0.002136752136752137, 'extent': 0.002136752136752137, 'trMillions': 0.002136752136752137, 'ee': 0.002136752136752137, 'project': 0.002136752136752137, 'vowed': 0.002136752136752137, 'third': 0.002136752136752137, '95': 0.002136752136752137, 'hectares': 0.002136752136752137, '2030': 0.002136752136752137, 'allocated': 0.002136752136752137, '$': 0.002136752136752137, '6.2': 0.002136752136752137, 'billion': 0.004273504273504274, '(': 0.002136752136752137, 'â‚¬5.2': 0.002136752136752137, ')': 0.002136752136752137, 'tree-planting': 0.002136752136752137, 'industrial': 0.002136752136752137, 'development': 0.002136752136752137, 'rapidly': 0.002136752136752137, 'growing': 0.002136752136752137, 'population': 0.002136752136752137, 'put': 0.002136752136752137, 'stress': 0.002136752136752137}\n"
     ]
    }
   ],
   "source": [
    "total_words = len(li)\n",
    "tf = {}\n",
    "for word in li:\n",
    "    if word in tf:\n",
    "        tf[word] += 1 / total_words\n",
    "    else:\n",
    "        tf[word] = 1 / total_words\n",
    "\n",
    "print(tf)"
   ]
  },
  {
   "cell_type": "code",
   "execution_count": null,
   "id": "984deddf",
   "metadata": {},
   "outputs": [],
   "source": []
  },
  {
   "cell_type": "markdown",
   "id": "278c5b01",
   "metadata": {},
   "source": [
    "# Calculate IDF for each word in li"
   ]
  },
  {
   "cell_type": "code",
   "execution_count": 13,
   "id": "1a787c92",
   "metadata": {},
   "outputs": [
    {
     "name": "stdout",
     "output_type": "stream",
     "text": [
      "{'Millions': 0, 'people': 0, 'India': 0, 'took': 0, 'part': 0, 'annual': 0, 'tree': 0, 'planting': 0, 'drive': 0, 'Sunday': 0, '.': 4.6481716219812785, 'More': 0, '250': 0, 'million': 0, 'saplings': 0, 'planted': 0, 'single': 0, 'day': 0, 'across': 0, 'country': 0, \"'s\": 0, 'most-populous': 0, 'state': 0, 'The': 0, 'campaign': 0, 'led': 0, 'Uttar': 0, 'Pradesh': 0, 'government': 0, 'officials': 0, ',': 4.678943280648032, 'lawmakers': 0, 'activists': 0, 'bid': 0, 'reduce': 0, 'carbon': 0, 'emissions': 0, 'combat': 0, 'climate': 0, 'change': 0, 'Where': 0, 'trees': 0, '?': 6.535241271013659, 'volunteers': 0, 'forests': 0, 'farms': 0, 'schools': 0, 'along': 0, 'riverbanks': 0, 'highways': 0, '``': 0, 'We': 0, 'committed': 0, 'increasing': 0, 'forest': 0, 'cover': 0, '15': 0, '%': 6.065237641767923, 'total': 0, 'land': 0, 'area': 0, 'next': 0, 'five': 0, 'years': 0, \"''\": 0, 'said': 0, 'official': 0, 'Manoj': 0, 'Singh': 0, 'According': 0, 'another': 0, 'increased': 0, 'last': 0, 'There': 0, 'increase': 0, '127': 0, 'sqare': 0, 'kilometers': 0, '[': 7.451532002887814, '79': 0, 'miles': 0, ']': 7.451532002887814, 'Â': 6.535241271013659, 'compared': 0, '2017': 0, 'spokesperson': 0, 'quoted': 0, 'saying': 0, 'inÂ': 0, 'Indian': 0, 'Express': 0, 'newspaper': 0, 'also': 0, 'plants': 0, '3.05': 0, 'national': 0, 'average': 0, '2.89': 0, 'citing': 0, '2019': 0, 'Forest': 0, 'Survey': 0, 'report': 0, 'How': 0, 'many': 0, 'survive': 0, 'State': 0, 'Minister': 0, 'Dara': 0, 'long-term': 0, 'survival': 0, 'remains': 0, 'concern': 0, 'adding': 0, 'usually': 0, '60': 0, 'rest': 0, 'succumb': 0, 'disease': 0, 'lack': 0, 'water': 0, 'However': 0, 'thatÂ': 0, '80': 0, 'four': 0, 'drives': 0, 'survived': 0, 'All': 0, 'regions': 0, 'plantation': 0, 'carried': 0, 'geo-tagged': 0, 'ascertain': 0, 'exactly': 0, 'happened': 0, 'Chauhan': 0, 'told': 0, 'Pioneer': 0, 'These': 0, 'carry': 0, 'QR': 0, 'codes': 0, 'maintain': 0, 'record': 0, 'verify': 0, 'whether': 0, 'Besides': 0, 'teams': 0, 'formed': 0, 'monitor': 0, 'progress': 0, 'What': 0, 'extent': 0, 'trMillions': 0, 'ee': 0, 'project': 0, 'vowed': 0, 'third': 0, '95': 0, 'hectares': 0, '2030': 0, 'allocated': 0, '$': 8.144679183447758, '6.2': 0, 'billion': 0, '(': 8.144679183447758, 'â‚¬5.2': 0, ')': 8.144679183447758, 'tree-planting': 0, 'industrial': 0, 'development': 0, 'rapidly': 0, 'growing': 0, 'population': 0, 'put': 0, 'stress': 0}\n"
     ]
    }
   ],
   "source": [
    "import math\n",
    "\n",
    "idf = {}\n",
    "num_docs = len(x)\n",
    "for word in li:\n",
    "    count = sum(1 for doc in x if word in doc)\n",
    "    idf[word] = math.log(num_docs / count) if count > 0 else 0\n",
    "\n",
    "print(idf)"
   ]
  },
  {
   "cell_type": "code",
   "execution_count": null,
   "id": "bc84ece9",
   "metadata": {},
   "outputs": [],
   "source": []
  }
 ],
 "metadata": {
  "kernelspec": {
   "display_name": "Python 3",
   "language": "python",
   "name": "python3"
  },
  "language_info": {
   "codemirror_mode": {
    "name": "ipython",
    "version": 3
   },
   "file_extension": ".py",
   "mimetype": "text/x-python",
   "name": "python",
   "nbconvert_exporter": "python",
   "pygments_lexer": "ipython3",
   "version": "3.8.8"
  }
 },
 "nbformat": 4,
 "nbformat_minor": 5
}
