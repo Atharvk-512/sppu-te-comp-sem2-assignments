{
 "cells": [
  {
   "cell_type": "markdown",
   "id": "7777b4d8",
   "metadata": {},
   "source": [
    "# Data Wrangling II\n",
    "Create an “Academic performance” dataset of students and perform the following operations\n",
    "using Python.\n",
    "1. Scan all variables for missing values and inconsistencies. If there are missing values\n",
    "and/or inconsistencies, use any of the suitable techniques to deal with them.\n",
    "2. Scan all numeric variables for outliers. If there are outliers, use any of the suitable\n",
    "techniques to deal with them.\n",
    "3. Apply data transformations on at least one of the variables. The purpose of this\n",
    "transformation should be one of the following reasons: to change the scale for better\n",
    "understanding of the variable, to convert a non-linear relation into a linear one, or to\n",
    "decrease the skewness and convert the distribution into a normal distribution.\n",
    "Reason and document your approach properly."
   ]
  },
  {
   "cell_type": "code",
   "execution_count": 10,
   "id": "fa84d088",
   "metadata": {},
   "outputs": [],
   "source": [
    "import pandas as pd\n",
    "import numpy as np"
   ]
  },
  {
   "cell_type": "code",
   "execution_count": null,
   "id": "d0c82dcb",
   "metadata": {},
   "outputs": [],
   "source": []
  },
  {
   "cell_type": "markdown",
   "id": "34868aa0",
   "metadata": {},
   "source": [
    "creating dataset using by randomly allocating gender, division, marks and attendance"
   ]
  },
  {
   "cell_type": "code",
   "execution_count": 11,
   "id": "5360e044",
   "metadata": {},
   "outputs": [
    {
     "data": {
      "text/plain": [
       "array([  1,   2,   3,   4,   5,   6,   7,   8,   9,  10,  11,  12,  13,\n",
       "        14,  15,  16,  17,  18,  19,  20,  21,  22,  23,  24,  25,  26,\n",
       "        27,  28,  29,  30,  31,  32,  33,  34,  35,  36,  37,  38,  39,\n",
       "        40,  41,  42,  43,  44,  45,  46,  47,  48,  49,  50,  51,  52,\n",
       "        53,  54,  55,  56,  57,  58,  59,  60,  61,  62,  63,  64,  65,\n",
       "        66,  67,  68,  69,  70,  71,  72,  73,  74,  75,  76,  77,  78,\n",
       "        79,  80,  81,  82,  83,  84,  85,  86,  87,  88,  89,  90,  91,\n",
       "        92,  93,  94,  95,  96,  97,  98,  99, 100])"
      ]
     },
     "execution_count": 11,
     "metadata": {},
     "output_type": "execute_result"
    }
   ],
   "source": [
    "rollno = np.arange(start=1, stop=101, step=1)\n",
    "rollno"
   ]
  },
  {
   "cell_type": "code",
   "execution_count": 12,
   "id": "73358a74",
   "metadata": {},
   "outputs": [
    {
     "data": {
      "text/plain": [
       "array(['M', 'M', 'F', 'M', 'F', 'M', 'F', 'F', 'M', 'F', 'F', 'F', 'M',\n",
       "       'M', 'M', 'F', 'F', 'F', 'M', 'M', 'M', 'F', 'F', 'F', 'M', 'F',\n",
       "       'F', 'F', 'M', 'F', 'M', 'M', 'M', 'F', 'F', 'F', 'M', 'F', 'F',\n",
       "       'M', 'F', 'M', 'F', 'F', 'M', 'F', 'M', 'M', 'M', 'F', 'M', 'M',\n",
       "       'M', 'M', 'M', 'F', 'M', 'F', 'M', 'M', 'M', 'F', 'M', 'M', 'M',\n",
       "       'M', 'F', 'F', 'M', 'M', 'M', 'M', 'M', 'F', 'M', 'F', 'F', 'M',\n",
       "       'M', 'M', 'F', 'M', 'F', 'F', 'F', 'F', 'M', 'M', 'F', 'M', 'M',\n",
       "       'F', 'F', 'M', 'F', 'M', 'M', 'M', 'F', 'F'], dtype='<U1')"
      ]
     },
     "execution_count": 12,
     "metadata": {},
     "output_type": "execute_result"
    }
   ],
   "source": [
    "sample_arr = [\"M\", \"F\"]\n",
    "gender= np.random.choice(sample_arr, size=100)\n",
    "gender"
   ]
  },
  {
   "cell_type": "code",
   "execution_count": 13,
   "id": "47f479c5",
   "metadata": {},
   "outputs": [
    {
     "data": {
      "text/plain": [
       "array(['TE1', 'TE3', 'TE2', 'TE3', 'TE2', 'TE4', 'TE4', 'TE1', 'TE2',\n",
       "       'TE4', 'TE3', 'TE4', 'TE2', 'TE1', 'TE2', 'TE3', 'TE1', 'TE1',\n",
       "       'TE2', 'TE4', 'TE3', 'TE1', 'TE2', 'TE3', 'TE2', 'TE1', 'TE3',\n",
       "       'TE2', 'TE2', 'TE3', 'TE4', 'TE2', 'TE3', 'TE4', 'TE2', 'TE1',\n",
       "       'TE1', 'TE3', 'TE1', 'TE3', 'TE3', 'TE1', 'TE3', 'TE4', 'TE2',\n",
       "       'TE2', 'TE1', 'TE3', 'TE2', 'TE2', 'TE2', 'TE2', 'TE3', 'TE1',\n",
       "       'TE3', 'TE3', 'TE4', 'TE1', 'TE2', 'TE1', 'TE4', 'TE4', 'TE1',\n",
       "       'TE1', 'TE3', 'TE1', 'TE2', 'TE2', 'TE1', 'TE4', 'TE2', 'TE2',\n",
       "       'TE1', 'TE3', 'TE3', 'TE1', 'TE4', 'TE3', 'TE1', 'TE3', 'TE2',\n",
       "       'TE4', 'TE2', 'TE4', 'TE4', 'TE1', 'TE1', 'TE2', 'TE2', 'TE4',\n",
       "       'TE1', 'TE4', 'TE2', 'TE2', 'TE1', 'TE3', 'TE2', 'TE1', 'TE2',\n",
       "       'TE1'], dtype='<U3')"
      ]
     },
     "execution_count": 13,
     "metadata": {},
     "output_type": "execute_result"
    }
   ],
   "source": [
    "sample_arr = [\"TE1\", \"TE2\", \"TE3\", \"TE4\"]\n",
    "div= np.random.choice(sample_arr, size=100)\n",
    "div"
   ]
  },
  {
   "cell_type": "code",
   "execution_count": 14,
   "id": "1a0e9ac9",
   "metadata": {},
   "outputs": [
    {
     "data": {
      "text/plain": [
       "array([93, 87, 62, 60, 51, 77, 62, 86, 46, 90, 40, 65, 56, 69, 85, 63, 71,\n",
       "       56, 41, 57, 83, 85, 45, 82, 61, 48, 44, 42, 70, 55, 79, 94, 84, 51,\n",
       "       55, 74, 91, 91, 58, 59, 81, 88, 67, 75, 44, 46, 71, 56, 53, 61, 76,\n",
       "       85, 87, 45, 75, 54, 82, 74, 48, 50, 60, 69, 72, 88, 44, 56, 47, 83,\n",
       "       45, 68, 89, 54, 41, 72, 61, 48, 88, 94, 66, 83, 46, 84, 73, 56, 49,\n",
       "       48, 73, 60, 58, 61, 84, 63, 79, 93, 43, 42, 64, 55, 91, 73])"
      ]
     },
     "execution_count": 14,
     "metadata": {},
     "output_type": "execute_result"
    }
   ],
   "source": [
    "marks1 = np.random.randint(low=40, high=95, size=100)\n",
    "marks1"
   ]
  },
  {
   "cell_type": "code",
   "execution_count": 15,
   "id": "b526daea",
   "metadata": {},
   "outputs": [
    {
     "data": {
      "text/plain": [
       "array([86, 73, 40, 66, 48, 57, 72, 93, 66, 83, 40, 55, 60, 84, 59, 93, 57,\n",
       "       89, 60, 89, 81, 45, 65, 84, 65, 45, 53, 89, 58, 55, 85, 54, 44, 49,\n",
       "       90, 72, 89, 69, 69, 44, 76, 71, 67, 45, 41, 86, 75, 66, 42, 92, 76,\n",
       "       74, 68, 43, 45, 44, 81, 47, 85, 46, 77, 82, 89, 77, 52, 93, 83, 47,\n",
       "       46, 61, 52, 53, 72, 49, 92, 71, 68, 77, 83, 91, 61, 56, 84, 68, 60,\n",
       "       70, 83, 63, 64, 94, 94, 76, 88, 43, 43, 89, 40, 66, 82, 93])"
      ]
     },
     "execution_count": 15,
     "metadata": {},
     "output_type": "execute_result"
    }
   ],
   "source": [
    "marks2 = np.random.randint(low=40, high=95, size=100)\n",
    "marks2"
   ]
  },
  {
   "cell_type": "code",
   "execution_count": 16,
   "id": "4e879daf",
   "metadata": {},
   "outputs": [
    {
     "data": {
      "text/plain": [
       "array([40, 91, 59, 68, 67, 92, 92, 43, 53, 76, 43, 89, 55, 50, 77, 58, 72,\n",
       "       69, 73, 49, 59, 82, 51, 86, 47, 42, 74, 45, 94, 84, 41, 44, 73, 60,\n",
       "       89, 87, 49, 45, 57, 48, 80, 69, 68, 44, 63, 51, 79, 75, 60, 84, 69,\n",
       "       71, 89, 45, 83, 67, 90, 81, 69, 69, 73, 85, 40, 83, 42, 80, 43, 68,\n",
       "       79, 78, 71, 43, 54, 91, 46, 75, 57, 50, 94, 62, 85, 56, 73, 94, 83,\n",
       "       69, 52, 44, 64, 43, 71, 86, 67, 42, 57, 88, 61, 64, 76, 44])"
      ]
     },
     "execution_count": 16,
     "metadata": {},
     "output_type": "execute_result"
    }
   ],
   "source": [
    "marks3 = np.random.randint(low=40, high=95, size=100)\n",
    "marks3"
   ]
  },
  {
   "cell_type": "code",
   "execution_count": 17,
   "id": "6d4b3a46",
   "metadata": {},
   "outputs": [
    {
     "data": {
      "text/plain": [
       "array([68.46, 60.06, 61.77, 43.98, 86.39, 40.17, 91.28, 74.45, 91.89,\n",
       "       82.38, 49.96, 68.03, 71.27, 74.24, 66.15, 48.5 , 94.29, 40.62,\n",
       "       89.69, 48.07, 89.42, 89.6 , 60.57, 74.45, 79.58, 55.43, 90.98,\n",
       "       65.98, 51.49, 40.18, 71.5 , 42.28, 42.8 , 63.01, 70.29, 85.46,\n",
       "       84.98, 64.21, 72.81, 53.02, 68.83, 63.85, 62.54, 66.29, 78.71,\n",
       "       76.  , 63.  , 54.23, 72.33, 55.83, 49.51, 78.27, 43.22, 80.34,\n",
       "       71.51, 84.85, 82.7 , 63.82, 70.38, 72.27, 67.7 , 50.45, 45.54,\n",
       "       41.25, 90.92, 77.35, 66.02, 49.36, 69.3 , 53.34, 67.85, 84.16,\n",
       "       54.17, 48.38, 80.26, 57.54, 49.33, 72.78, 48.93, 60.15, 70.65,\n",
       "       43.48, 44.26, 89.3 , 60.66, 55.55, 72.55, 86.03, 81.98, 74.8 ,\n",
       "       63.2 , 78.27, 73.67, 63.18, 86.21, 78.97, 62.6 , 87.32, 82.65,\n",
       "       46.75])"
      ]
     },
     "execution_count": 17,
     "metadata": {},
     "output_type": "execute_result"
    }
   ],
   "source": [
    "attendance=np.random.uniform(low=40.0, high=95.0, size=(100))\n",
    "attendance = np.round(attendance, decimals=2)\n",
    "attendance"
   ]
  },
  {
   "cell_type": "code",
   "execution_count": 18,
   "id": "b5c4a6db",
   "metadata": {},
   "outputs": [],
   "source": [
    "dic = {\n",
    "    'roll_no': rollno,\n",
    "    'gender': gender,\n",
    "    'sub1': marks1,\n",
    "    'sub2': marks2,\n",
    "    'sub3': marks3,\n",
    "    'attendance': attendance\n",
    "}"
   ]
  },
  {
   "cell_type": "code",
   "execution_count": null,
   "id": "0f91d3fc",
   "metadata": {},
   "outputs": [],
   "source": []
  },
  {
   "cell_type": "markdown",
   "id": "d7716569",
   "metadata": {},
   "source": [
    "converting above data into a dataframe "
   ]
  },
  {
   "cell_type": "code",
   "execution_count": 19,
   "id": "84fdfcbb",
   "metadata": {},
   "outputs": [],
   "source": [
    "df  = pd.DataFrame(dic)"
   ]
  },
  {
   "cell_type": "code",
   "execution_count": 20,
   "id": "d6a048aa",
   "metadata": {},
   "outputs": [
    {
     "data": {
      "text/html": [
       "<div>\n",
       "<style scoped>\n",
       "    .dataframe tbody tr th:only-of-type {\n",
       "        vertical-align: middle;\n",
       "    }\n",
       "\n",
       "    .dataframe tbody tr th {\n",
       "        vertical-align: top;\n",
       "    }\n",
       "\n",
       "    .dataframe thead th {\n",
       "        text-align: right;\n",
       "    }\n",
       "</style>\n",
       "<table border=\"1\" class=\"dataframe\">\n",
       "  <thead>\n",
       "    <tr style=\"text-align: right;\">\n",
       "      <th></th>\n",
       "      <th>roll_no</th>\n",
       "      <th>gender</th>\n",
       "      <th>sub1</th>\n",
       "      <th>sub2</th>\n",
       "      <th>sub3</th>\n",
       "      <th>attendance</th>\n",
       "    </tr>\n",
       "  </thead>\n",
       "  <tbody>\n",
       "    <tr>\n",
       "      <th>0</th>\n",
       "      <td>1</td>\n",
       "      <td>M</td>\n",
       "      <td>93</td>\n",
       "      <td>86</td>\n",
       "      <td>40</td>\n",
       "      <td>68.46</td>\n",
       "    </tr>\n",
       "    <tr>\n",
       "      <th>1</th>\n",
       "      <td>2</td>\n",
       "      <td>M</td>\n",
       "      <td>87</td>\n",
       "      <td>73</td>\n",
       "      <td>91</td>\n",
       "      <td>60.06</td>\n",
       "    </tr>\n",
       "    <tr>\n",
       "      <th>2</th>\n",
       "      <td>3</td>\n",
       "      <td>F</td>\n",
       "      <td>62</td>\n",
       "      <td>40</td>\n",
       "      <td>59</td>\n",
       "      <td>61.77</td>\n",
       "    </tr>\n",
       "    <tr>\n",
       "      <th>3</th>\n",
       "      <td>4</td>\n",
       "      <td>M</td>\n",
       "      <td>60</td>\n",
       "      <td>66</td>\n",
       "      <td>68</td>\n",
       "      <td>43.98</td>\n",
       "    </tr>\n",
       "    <tr>\n",
       "      <th>4</th>\n",
       "      <td>5</td>\n",
       "      <td>F</td>\n",
       "      <td>51</td>\n",
       "      <td>48</td>\n",
       "      <td>67</td>\n",
       "      <td>86.39</td>\n",
       "    </tr>\n",
       "    <tr>\n",
       "      <th>...</th>\n",
       "      <td>...</td>\n",
       "      <td>...</td>\n",
       "      <td>...</td>\n",
       "      <td>...</td>\n",
       "      <td>...</td>\n",
       "      <td>...</td>\n",
       "    </tr>\n",
       "    <tr>\n",
       "      <th>95</th>\n",
       "      <td>96</td>\n",
       "      <td>M</td>\n",
       "      <td>42</td>\n",
       "      <td>89</td>\n",
       "      <td>88</td>\n",
       "      <td>78.97</td>\n",
       "    </tr>\n",
       "    <tr>\n",
       "      <th>96</th>\n",
       "      <td>97</td>\n",
       "      <td>M</td>\n",
       "      <td>64</td>\n",
       "      <td>40</td>\n",
       "      <td>61</td>\n",
       "      <td>62.60</td>\n",
       "    </tr>\n",
       "    <tr>\n",
       "      <th>97</th>\n",
       "      <td>98</td>\n",
       "      <td>M</td>\n",
       "      <td>55</td>\n",
       "      <td>66</td>\n",
       "      <td>64</td>\n",
       "      <td>87.32</td>\n",
       "    </tr>\n",
       "    <tr>\n",
       "      <th>98</th>\n",
       "      <td>99</td>\n",
       "      <td>F</td>\n",
       "      <td>91</td>\n",
       "      <td>82</td>\n",
       "      <td>76</td>\n",
       "      <td>82.65</td>\n",
       "    </tr>\n",
       "    <tr>\n",
       "      <th>99</th>\n",
       "      <td>100</td>\n",
       "      <td>F</td>\n",
       "      <td>73</td>\n",
       "      <td>93</td>\n",
       "      <td>44</td>\n",
       "      <td>46.75</td>\n",
       "    </tr>\n",
       "  </tbody>\n",
       "</table>\n",
       "<p>100 rows × 6 columns</p>\n",
       "</div>"
      ],
      "text/plain": [
       "    roll_no gender  sub1  sub2  sub3  attendance\n",
       "0         1      M    93    86    40       68.46\n",
       "1         2      M    87    73    91       60.06\n",
       "2         3      F    62    40    59       61.77\n",
       "3         4      M    60    66    68       43.98\n",
       "4         5      F    51    48    67       86.39\n",
       "..      ...    ...   ...   ...   ...         ...\n",
       "95       96      M    42    89    88       78.97\n",
       "96       97      M    64    40    61       62.60\n",
       "97       98      M    55    66    64       87.32\n",
       "98       99      F    91    82    76       82.65\n",
       "99      100      F    73    93    44       46.75\n",
       "\n",
       "[100 rows x 6 columns]"
      ]
     },
     "execution_count": 20,
     "metadata": {},
     "output_type": "execute_result"
    }
   ],
   "source": [
    "df"
   ]
  },
  {
   "cell_type": "code",
   "execution_count": 21,
   "id": "fef57f99",
   "metadata": {},
   "outputs": [
    {
     "data": {
      "text/html": [
       "<div>\n",
       "<style scoped>\n",
       "    .dataframe tbody tr th:only-of-type {\n",
       "        vertical-align: middle;\n",
       "    }\n",
       "\n",
       "    .dataframe tbody tr th {\n",
       "        vertical-align: top;\n",
       "    }\n",
       "\n",
       "    .dataframe thead th {\n",
       "        text-align: right;\n",
       "    }\n",
       "</style>\n",
       "<table border=\"1\" class=\"dataframe\">\n",
       "  <thead>\n",
       "    <tr style=\"text-align: right;\">\n",
       "      <th></th>\n",
       "      <th>roll_no</th>\n",
       "      <th>gender</th>\n",
       "      <th>sub1</th>\n",
       "      <th>sub2</th>\n",
       "      <th>sub3</th>\n",
       "      <th>attendance</th>\n",
       "      <th>avg</th>\n",
       "    </tr>\n",
       "  </thead>\n",
       "  <tbody>\n",
       "    <tr>\n",
       "      <th>0</th>\n",
       "      <td>1</td>\n",
       "      <td>M</td>\n",
       "      <td>93</td>\n",
       "      <td>86</td>\n",
       "      <td>40</td>\n",
       "      <td>68.46</td>\n",
       "      <td>73.000000</td>\n",
       "    </tr>\n",
       "    <tr>\n",
       "      <th>1</th>\n",
       "      <td>2</td>\n",
       "      <td>M</td>\n",
       "      <td>87</td>\n",
       "      <td>73</td>\n",
       "      <td>91</td>\n",
       "      <td>60.06</td>\n",
       "      <td>83.666667</td>\n",
       "    </tr>\n",
       "    <tr>\n",
       "      <th>2</th>\n",
       "      <td>3</td>\n",
       "      <td>F</td>\n",
       "      <td>62</td>\n",
       "      <td>40</td>\n",
       "      <td>59</td>\n",
       "      <td>61.77</td>\n",
       "      <td>53.666667</td>\n",
       "    </tr>\n",
       "    <tr>\n",
       "      <th>3</th>\n",
       "      <td>4</td>\n",
       "      <td>M</td>\n",
       "      <td>60</td>\n",
       "      <td>66</td>\n",
       "      <td>68</td>\n",
       "      <td>43.98</td>\n",
       "      <td>64.666667</td>\n",
       "    </tr>\n",
       "    <tr>\n",
       "      <th>4</th>\n",
       "      <td>5</td>\n",
       "      <td>F</td>\n",
       "      <td>51</td>\n",
       "      <td>48</td>\n",
       "      <td>67</td>\n",
       "      <td>86.39</td>\n",
       "      <td>55.333333</td>\n",
       "    </tr>\n",
       "    <tr>\n",
       "      <th>...</th>\n",
       "      <td>...</td>\n",
       "      <td>...</td>\n",
       "      <td>...</td>\n",
       "      <td>...</td>\n",
       "      <td>...</td>\n",
       "      <td>...</td>\n",
       "      <td>...</td>\n",
       "    </tr>\n",
       "    <tr>\n",
       "      <th>95</th>\n",
       "      <td>96</td>\n",
       "      <td>M</td>\n",
       "      <td>42</td>\n",
       "      <td>89</td>\n",
       "      <td>88</td>\n",
       "      <td>78.97</td>\n",
       "      <td>73.000000</td>\n",
       "    </tr>\n",
       "    <tr>\n",
       "      <th>96</th>\n",
       "      <td>97</td>\n",
       "      <td>M</td>\n",
       "      <td>64</td>\n",
       "      <td>40</td>\n",
       "      <td>61</td>\n",
       "      <td>62.60</td>\n",
       "      <td>55.000000</td>\n",
       "    </tr>\n",
       "    <tr>\n",
       "      <th>97</th>\n",
       "      <td>98</td>\n",
       "      <td>M</td>\n",
       "      <td>55</td>\n",
       "      <td>66</td>\n",
       "      <td>64</td>\n",
       "      <td>87.32</td>\n",
       "      <td>61.666667</td>\n",
       "    </tr>\n",
       "    <tr>\n",
       "      <th>98</th>\n",
       "      <td>99</td>\n",
       "      <td>F</td>\n",
       "      <td>91</td>\n",
       "      <td>82</td>\n",
       "      <td>76</td>\n",
       "      <td>82.65</td>\n",
       "      <td>83.000000</td>\n",
       "    </tr>\n",
       "    <tr>\n",
       "      <th>99</th>\n",
       "      <td>100</td>\n",
       "      <td>F</td>\n",
       "      <td>73</td>\n",
       "      <td>93</td>\n",
       "      <td>44</td>\n",
       "      <td>46.75</td>\n",
       "      <td>70.000000</td>\n",
       "    </tr>\n",
       "  </tbody>\n",
       "</table>\n",
       "<p>100 rows × 7 columns</p>\n",
       "</div>"
      ],
      "text/plain": [
       "    roll_no gender  sub1  sub2  sub3  attendance        avg\n",
       "0         1      M    93    86    40       68.46  73.000000\n",
       "1         2      M    87    73    91       60.06  83.666667\n",
       "2         3      F    62    40    59       61.77  53.666667\n",
       "3         4      M    60    66    68       43.98  64.666667\n",
       "4         5      F    51    48    67       86.39  55.333333\n",
       "..      ...    ...   ...   ...   ...         ...        ...\n",
       "95       96      M    42    89    88       78.97  73.000000\n",
       "96       97      M    64    40    61       62.60  55.000000\n",
       "97       98      M    55    66    64       87.32  61.666667\n",
       "98       99      F    91    82    76       82.65  83.000000\n",
       "99      100      F    73    93    44       46.75  70.000000\n",
       "\n",
       "[100 rows x 7 columns]"
      ]
     },
     "execution_count": 21,
     "metadata": {},
     "output_type": "execute_result"
    }
   ],
   "source": [
    "cols = ['sub1', 'sub2', 'sub3']\n",
    "df['avg']=df[cols].mean(axis=1)\n",
    "df"
   ]
  },
  {
   "cell_type": "code",
   "execution_count": null,
   "id": "49f6dab1",
   "metadata": {},
   "outputs": [],
   "source": []
  },
  {
   "cell_type": "markdown",
   "id": "3a3783c1",
   "metadata": {},
   "source": [
    "can be converted into a csv file using:"
   ]
  },
  {
   "cell_type": "code",
   "execution_count": 22,
   "id": "97d88ac7",
   "metadata": {},
   "outputs": [],
   "source": [
    "df.to_csv(\"My_student_dataset.csv\")"
   ]
  }
 ],
 "metadata": {
  "kernelspec": {
   "display_name": "Python 3 (ipykernel)",
   "language": "python",
   "name": "python3"
  },
  "language_info": {
   "codemirror_mode": {
    "name": "ipython",
    "version": 3
   },
   "file_extension": ".py",
   "mimetype": "text/x-python",
   "name": "python",
   "nbconvert_exporter": "python",
   "pygments_lexer": "ipython3",
   "version": "3.11.2"
  }
 },
 "nbformat": 4,
 "nbformat_minor": 5
}
